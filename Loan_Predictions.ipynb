{
 "cells": [
  {
   "cell_type": "markdown",
   "metadata": {},
   "source": [
    "# Loan Predictions using Machine Learning in Python\n",
    "\n",
    "### Author - Kalyani Nawathe \n",
    "### Date - December 13, 2018\n",
    "\n",
    "## The problem statement: \n",
    "For its customers, Dream Housing Finance company deals in home loans. They have their business across all urban, semi-urban and rural areas. Company validates the customer eligibility for the loan after the customer applies for a home loan.\n",
    "\n",
    "For loan eligibility process, the company wants to automate the process based on customer detail provided while filling an online application form. Details include Gender, Marital Status, Education, Number of Dependents, Income, Loan Amount, Credit History and others.\n",
    "\n",
    "The objective of this project to automate the process to identify the customers' segments, those who are eligible for loan payment so that they can specifically focus these eligible customers.\n",
    "\n",
    "\n",
    "## Dataset details:\n",
    "Data\n",
    "Parameters        | Description of parameter\n",
    "\n",
    "Loan_ID           | Unique Loan ID\n",
    "\n",
    "Gender            | Male/ Female\n",
    "\n",
    "Married           | Applicant married (Y/N)\n",
    "\n",
    "Dependents        | Number of dependents\n",
    "\n",
    "Education         | Applicant Education (Graduate/ Under Graduate)\n",
    "\n",
    "Self_Employed     | Self employed (Y/N)\n",
    "\n",
    "ApplicantIncome   | Applicant income\n",
    "\n",
    "CoapplicantIncome | Coapplicant income\n",
    "\n",
    "LoanAmount        | Loan amount in thousands\n",
    "\n",
    "Loan_Amount_Term  | Term of loan in months\n",
    "\n",
    "Credit_History    | Credit history meets guidelines\n",
    "\n",
    "Property_Area     | Urban/ Semi Urban/ Rural\n",
    "\n",
    "Loan_Status       | Loan approved (Y/N)\n",
    "\n",
    "\n",
    "### Source: \n",
    "https://datahack.analyticsvidhya.com/contest/practice-problem-loan-prediction-iii/\n",
    "\n",
    "## Explanation of the problem:\n",
    "- In real-life, Loan prediction is a very common problem that each retail bank faces everyday. It can save a lot of man hours for a bank if perfomed efficiently with accuracy.\n",
    "- This is a classification problem where we have to predict whether a loan would be approved or not. In a classification, we have to predict discrete dependent values based on a given set of independent variables. \n",
    "\n",
    "## Hypothesis generation:\n",
    "The target variable for this problem is **Loan Approval.** By understanding the problem statement I can think of below factors which I think can affect the loan approval.\n",
    "1. **Applicant Income** - chances of approval of loan are higher for applicants with high income.\n",
    "2. **Loan Amount** - chances of approval of loan are higher for applicants with less loan amount applied for.\n",
    "3. **Loan Term** - chances of approval of loan are higher for applicants who applied for less time period and less amount.\n",
    "4. **Credit history** - chances of approval of loan are higher for applicants who have good credit history i.e. they repayed their previous debts.\n",
    "\n",
    "## Approach taken for hypothesis:\n",
    "- For the **hypothesis** problems mentioned above, I am going to perform this analysis with the help of **Visualizations** by performing **Univariate** as well as **Bivariate Analysis** where I am going to analyze data for each individual variable separately and some of them together.\n",
    "- For categorical parameters I am using frequency table or bar plots which will calculate the number of each category in a particular variable. \n",
    "- For numerical parameters, I am using probability density plots which can be used to look at the distribution of the variable.\n",
    "\n",
    "## Approach taken for predictions:\n",
    "- As the main goal of this project is to predict if an applicant's loan will be approved or not along with doing statistical/descriptive analysis of the data, I am going to implement prediction model using **Logistic Regression model** \n",
    "- Because Logistic Regression is a classification algorithm which is used to predict a **Binary Outcomes** (1 / 0, Yes / No, True / False) given a set of independent variables.\n",
    "***\n"
   ]
  },
  {
   "cell_type": "markdown",
   "metadata": {},
   "source": [
    "### Import all required packages"
   ]
  },
  {
   "cell_type": "code",
   "execution_count": 1,
   "metadata": {},
   "outputs": [],
   "source": [
    "import pandas as pd\n",
    "import numpy as np                     # For mathematical calculations\n",
    "import seaborn as sns                  # For data visualization\n",
    "import matplotlib.pyplot as plt        # For plotting graphs\n",
    "%matplotlib inline\n",
    "import warnings                        # To ignore any warnings\n",
    "warnings.filterwarnings(\"ignore\")"
   ]
  },
  {
   "cell_type": "markdown",
   "metadata": {},
   "source": [
    "## 1. Data extraction and exploration"
   ]
  },
  {
   "cell_type": "code",
   "execution_count": 2,
   "metadata": {},
   "outputs": [],
   "source": [
    "# Read datasets\n",
    "data=pd.read_csv(\"train.csv\")\n",
    "test=pd.read_csv(\"test.csv\")"
   ]
  },
  {
   "cell_type": "markdown",
   "metadata": {},
   "source": [
    "##### - Making a copy of train and test data so that we would not lose the original datasets, even if we make any changes in these datasets ."
   ]
  },
  {
   "cell_type": "code",
   "execution_count": 3,
   "metadata": {},
   "outputs": [],
   "source": [
    "# Get copy of original\n",
    "train_original=data.copy()\n",
    "test_original=test.copy()"
   ]
  },
  {
   "cell_type": "code",
   "execution_count": 4,
   "metadata": {},
   "outputs": [
    {
     "data": {
      "text/plain": [
       "Index(['Loan_ID', 'Gender', 'Married', 'Dependents', 'Education',\n",
       "       'Self_Employed', 'ApplicantIncome', 'CoapplicantIncome', 'LoanAmount',\n",
       "       'Loan_Amount_Term', 'Credit_History', 'Property_Area', 'Loan_Status'],\n",
       "      dtype='object')"
      ]
     },
     "execution_count": 4,
     "metadata": {},
     "output_type": "execute_result"
    }
   ],
   "source": [
    "data.columns"
   ]
  },
  {
   "cell_type": "code",
   "execution_count": 5,
   "metadata": {},
   "outputs": [
    {
     "data": {
      "text/plain": [
       "Index(['Loan_ID', 'Gender', 'Married', 'Dependents', 'Education',\n",
       "       'Self_Employed', 'ApplicantIncome', 'CoapplicantIncome', 'LoanAmount',\n",
       "       'Loan_Amount_Term', 'Credit_History', 'Property_Area'],\n",
       "      dtype='object')"
      ]
     },
     "execution_count": 5,
     "metadata": {},
     "output_type": "execute_result"
    }
   ],
   "source": [
    "test.columns"
   ]
  },
  {
   "cell_type": "markdown",
   "metadata": {},
   "source": [
    "- Train file will be used for training the model, i.e. our model will learn from this file. It contains all the independent variables and the target variable.\n",
    "- Test file contains all the independent variables, but not the target variable. We will apply the model to predict the target variable for the test data."
   ]
  },
  {
   "cell_type": "code",
   "execution_count": 6,
   "metadata": {},
   "outputs": [
    {
     "data": {
      "text/plain": [
       "Loan_ID               object\n",
       "Gender                object\n",
       "Married               object\n",
       "Dependents            object\n",
       "Education             object\n",
       "Self_Employed         object\n",
       "ApplicantIncome        int64\n",
       "CoapplicantIncome    float64\n",
       "LoanAmount           float64\n",
       "Loan_Amount_Term     float64\n",
       "Credit_History       float64\n",
       "Property_Area         object\n",
       "Loan_Status           object\n",
       "dtype: object"
      ]
     },
     "execution_count": 6,
     "metadata": {},
     "output_type": "execute_result"
    }
   ],
   "source": [
    "# Print data types for each variable\n",
    "data.dtypes"
   ]
  },
  {
   "cell_type": "code",
   "execution_count": 7,
   "metadata": {},
   "outputs": [
    {
     "data": {
      "text/html": [
       "<div>\n",
       "<style scoped>\n",
       "    .dataframe tbody tr th:only-of-type {\n",
       "        vertical-align: middle;\n",
       "    }\n",
       "\n",
       "    .dataframe tbody tr th {\n",
       "        vertical-align: top;\n",
       "    }\n",
       "\n",
       "    .dataframe thead th {\n",
       "        text-align: right;\n",
       "    }\n",
       "</style>\n",
       "<table border=\"1\" class=\"dataframe\">\n",
       "  <thead>\n",
       "    <tr style=\"text-align: right;\">\n",
       "      <th></th>\n",
       "      <th>ApplicantIncome</th>\n",
       "      <th>CoapplicantIncome</th>\n",
       "      <th>LoanAmount</th>\n",
       "      <th>Loan_Amount_Term</th>\n",
       "      <th>Credit_History</th>\n",
       "    </tr>\n",
       "  </thead>\n",
       "  <tbody>\n",
       "    <tr>\n",
       "      <th>count</th>\n",
       "      <td>614.000000</td>\n",
       "      <td>614.000000</td>\n",
       "      <td>592.000000</td>\n",
       "      <td>600.00000</td>\n",
       "      <td>564.000000</td>\n",
       "    </tr>\n",
       "    <tr>\n",
       "      <th>mean</th>\n",
       "      <td>5403.459283</td>\n",
       "      <td>1621.245798</td>\n",
       "      <td>146.412162</td>\n",
       "      <td>342.00000</td>\n",
       "      <td>0.842199</td>\n",
       "    </tr>\n",
       "    <tr>\n",
       "      <th>std</th>\n",
       "      <td>6109.041673</td>\n",
       "      <td>2926.248369</td>\n",
       "      <td>85.587325</td>\n",
       "      <td>65.12041</td>\n",
       "      <td>0.364878</td>\n",
       "    </tr>\n",
       "    <tr>\n",
       "      <th>min</th>\n",
       "      <td>150.000000</td>\n",
       "      <td>0.000000</td>\n",
       "      <td>9.000000</td>\n",
       "      <td>12.00000</td>\n",
       "      <td>0.000000</td>\n",
       "    </tr>\n",
       "    <tr>\n",
       "      <th>25%</th>\n",
       "      <td>2877.500000</td>\n",
       "      <td>0.000000</td>\n",
       "      <td>100.000000</td>\n",
       "      <td>360.00000</td>\n",
       "      <td>1.000000</td>\n",
       "    </tr>\n",
       "    <tr>\n",
       "      <th>50%</th>\n",
       "      <td>3812.500000</td>\n",
       "      <td>1188.500000</td>\n",
       "      <td>128.000000</td>\n",
       "      <td>360.00000</td>\n",
       "      <td>1.000000</td>\n",
       "    </tr>\n",
       "    <tr>\n",
       "      <th>75%</th>\n",
       "      <td>5795.000000</td>\n",
       "      <td>2297.250000</td>\n",
       "      <td>168.000000</td>\n",
       "      <td>360.00000</td>\n",
       "      <td>1.000000</td>\n",
       "    </tr>\n",
       "    <tr>\n",
       "      <th>max</th>\n",
       "      <td>81000.000000</td>\n",
       "      <td>41667.000000</td>\n",
       "      <td>700.000000</td>\n",
       "      <td>480.00000</td>\n",
       "      <td>1.000000</td>\n",
       "    </tr>\n",
       "  </tbody>\n",
       "</table>\n",
       "</div>"
      ],
      "text/plain": [
       "       ApplicantIncome  CoapplicantIncome  LoanAmount  Loan_Amount_Term  \\\n",
       "count       614.000000         614.000000  592.000000         600.00000   \n",
       "mean       5403.459283        1621.245798  146.412162         342.00000   \n",
       "std        6109.041673        2926.248369   85.587325          65.12041   \n",
       "min         150.000000           0.000000    9.000000          12.00000   \n",
       "25%        2877.500000           0.000000  100.000000         360.00000   \n",
       "50%        3812.500000        1188.500000  128.000000         360.00000   \n",
       "75%        5795.000000        2297.250000  168.000000         360.00000   \n",
       "max       81000.000000       41667.000000  700.000000         480.00000   \n",
       "\n",
       "       Credit_History  \n",
       "count      564.000000  \n",
       "mean         0.842199  \n",
       "std          0.364878  \n",
       "min          0.000000  \n",
       "25%          1.000000  \n",
       "50%          1.000000  \n",
       "75%          1.000000  \n",
       "max          1.000000  "
      ]
     },
     "execution_count": 7,
     "metadata": {},
     "output_type": "execute_result"
    }
   ],
   "source": [
    "# Print summary statistics on each variable.\n",
    "data.describe()"
   ]
  },
  {
   "cell_type": "code",
   "execution_count": 8,
   "metadata": {},
   "outputs": [
    {
     "name": "stdout",
     "output_type": "stream",
     "text": [
      "There are 614 datapoints with 13 variable in train dataset.\n",
      "There are 367 datapoints with 12 variable in test dataset.\n"
     ]
    }
   ],
   "source": [
    "# Analyze data structure\n",
    "print(f'There are {data.shape[0]:d} datapoints with {data.shape[1]:d} variable in train dataset.')\n",
    "print(f'There are {test.shape[0]:d} datapoints with {test.shape[1]:d} variable in test dataset.')"
   ]
  },
  {
   "cell_type": "markdown",
   "metadata": {},
   "source": [
    "#### Observe the correlation between above parameters for initial exploration"
   ]
  },
  {
   "cell_type": "code",
   "execution_count": 9,
   "metadata": {},
   "outputs": [],
   "source": [
    "# Chnaging 0 and 1 for N and Y resp in loan status variable\n",
    "data['Loan_Status'].replace('N', 0,inplace=True)\n",
    "data['Loan_Status'].replace('Y', 1,inplace=True)\n",
    "\n",
    "# Change 3+ to 3 in train and test both\n",
    "data['Dependents'].replace('3+', 3,inplace=True)\n",
    "test['Dependents'].replace('3+', 3,inplace=True)"
   ]
  },
  {
   "cell_type": "code",
   "execution_count": 10,
   "metadata": {},
   "outputs": [
    {
     "data": {
      "text/html": [
       "<style  type=\"text/css\" >\n",
       "    #T_a32b8386_ff3f_11e8_a838_f01898001640 th {\n",
       "          font-size: 7pt;\n",
       "    }    #T_a32b8386_ff3f_11e8_a838_f01898001640 td {\n",
       "          padding: 0em 0em;\n",
       "    }    #T_a32b8386_ff3f_11e8_a838_f01898001640 th:hover {\n",
       "          font-size: 13pt;\n",
       "    }    #T_a32b8386_ff3f_11e8_a838_f01898001640 tr:hover td:hover {\n",
       "          max-width: 200px;\n",
       "          font-size: 13pt;\n",
       "    }    #T_a32b8386_ff3f_11e8_a838_f01898001640row0_col0 {\n",
       "            background-color:  #4479bb;\n",
       "            max-width:  80px;\n",
       "            font-size:  10pt;\n",
       "        }    #T_a32b8386_ff3f_11e8_a838_f01898001640row0_col1 {\n",
       "            background-color:  #d73c5b;\n",
       "            max-width:  80px;\n",
       "            font-size:  10pt;\n",
       "        }    #T_a32b8386_ff3f_11e8_a838_f01898001640row0_col2 {\n",
       "            background-color:  #cbdaec;\n",
       "            max-width:  80px;\n",
       "            font-size:  10pt;\n",
       "        }    #T_a32b8386_ff3f_11e8_a838_f01898001640row0_col3 {\n",
       "            background-color:  #dc526e;\n",
       "            max-width:  80px;\n",
       "            font-size:  10pt;\n",
       "        }    #T_a32b8386_ff3f_11e8_a838_f01898001640row0_col4 {\n",
       "            background-color:  #de5c76;\n",
       "            max-width:  80px;\n",
       "            font-size:  10pt;\n",
       "        }    #T_a32b8386_ff3f_11e8_a838_f01898001640row0_col5 {\n",
       "            background-color:  #de5f79;\n",
       "            max-width:  80px;\n",
       "            font-size:  10pt;\n",
       "        }    #T_a32b8386_ff3f_11e8_a838_f01898001640row1_col0 {\n",
       "            background-color:  #d73c5b;\n",
       "            max-width:  80px;\n",
       "            font-size:  10pt;\n",
       "        }    #T_a32b8386_ff3f_11e8_a838_f01898001640row1_col1 {\n",
       "            background-color:  #4479bb;\n",
       "            max-width:  80px;\n",
       "            font-size:  10pt;\n",
       "        }    #T_a32b8386_ff3f_11e8_a838_f01898001640row1_col2 {\n",
       "            background-color:  #eb9ead;\n",
       "            max-width:  80px;\n",
       "            font-size:  10pt;\n",
       "        }    #T_a32b8386_ff3f_11e8_a838_f01898001640row1_col3 {\n",
       "            background-color:  #db4e6a;\n",
       "            max-width:  80px;\n",
       "            font-size:  10pt;\n",
       "        }    #T_a32b8386_ff3f_11e8_a838_f01898001640row1_col4 {\n",
       "            background-color:  #df617a;\n",
       "            max-width:  80px;\n",
       "            font-size:  10pt;\n",
       "        }    #T_a32b8386_ff3f_11e8_a838_f01898001640row1_col5 {\n",
       "            background-color:  #db4e6a;\n",
       "            max-width:  80px;\n",
       "            font-size:  10pt;\n",
       "        }    #T_a32b8386_ff3f_11e8_a838_f01898001640row2_col0 {\n",
       "            background-color:  #d5e1f0;\n",
       "            max-width:  80px;\n",
       "            font-size:  10pt;\n",
       "        }    #T_a32b8386_ff3f_11e8_a838_f01898001640row2_col1 {\n",
       "            background-color:  #e78a9d;\n",
       "            max-width:  80px;\n",
       "            font-size:  10pt;\n",
       "        }    #T_a32b8386_ff3f_11e8_a838_f01898001640row2_col2 {\n",
       "            background-color:  #4479bb;\n",
       "            max-width:  80px;\n",
       "            font-size:  10pt;\n",
       "        }    #T_a32b8386_ff3f_11e8_a838_f01898001640row2_col3 {\n",
       "            background-color:  #dc5570;\n",
       "            max-width:  80px;\n",
       "            font-size:  10pt;\n",
       "        }    #T_a32b8386_ff3f_11e8_a838_f01898001640row2_col4 {\n",
       "            background-color:  #d94563;\n",
       "            max-width:  80px;\n",
       "            font-size:  10pt;\n",
       "        }    #T_a32b8386_ff3f_11e8_a838_f01898001640row2_col5 {\n",
       "            background-color:  #d73c5b;\n",
       "            max-width:  80px;\n",
       "            font-size:  10pt;\n",
       "        }    #T_a32b8386_ff3f_11e8_a838_f01898001640row3_col0 {\n",
       "            background-color:  #d8405e;\n",
       "            max-width:  80px;\n",
       "            font-size:  10pt;\n",
       "        }    #T_a32b8386_ff3f_11e8_a838_f01898001640row3_col1 {\n",
       "            background-color:  #d73c5b;\n",
       "            max-width:  80px;\n",
       "            font-size:  10pt;\n",
       "        }    #T_a32b8386_ff3f_11e8_a838_f01898001640row3_col2 {\n",
       "            background-color:  #de5c76;\n",
       "            max-width:  80px;\n",
       "            font-size:  10pt;\n",
       "        }    #T_a32b8386_ff3f_11e8_a838_f01898001640row3_col3 {\n",
       "            background-color:  #4479bb;\n",
       "            max-width:  80px;\n",
       "            font-size:  10pt;\n",
       "        }    #T_a32b8386_ff3f_11e8_a838_f01898001640row3_col4 {\n",
       "            background-color:  #db4f6b;\n",
       "            max-width:  80px;\n",
       "            font-size:  10pt;\n",
       "        }    #T_a32b8386_ff3f_11e8_a838_f01898001640row3_col5 {\n",
       "            background-color:  #da4865;\n",
       "            max-width:  80px;\n",
       "            font-size:  10pt;\n",
       "        }    #T_a32b8386_ff3f_11e8_a838_f01898001640row4_col0 {\n",
       "            background-color:  #d73c5b;\n",
       "            max-width:  80px;\n",
       "            font-size:  10pt;\n",
       "        }    #T_a32b8386_ff3f_11e8_a838_f01898001640row4_col1 {\n",
       "            background-color:  #d8405e;\n",
       "            max-width:  80px;\n",
       "            font-size:  10pt;\n",
       "        }    #T_a32b8386_ff3f_11e8_a838_f01898001640row4_col2 {\n",
       "            background-color:  #d73d5c;\n",
       "            max-width:  80px;\n",
       "            font-size:  10pt;\n",
       "        }    #T_a32b8386_ff3f_11e8_a838_f01898001640row4_col3 {\n",
       "            background-color:  #d8415f;\n",
       "            max-width:  80px;\n",
       "            font-size:  10pt;\n",
       "        }    #T_a32b8386_ff3f_11e8_a838_f01898001640row4_col4 {\n",
       "            background-color:  #4479bb;\n",
       "            max-width:  80px;\n",
       "            font-size:  10pt;\n",
       "        }    #T_a32b8386_ff3f_11e8_a838_f01898001640row4_col5 {\n",
       "            background-color:  #dce6f2;\n",
       "            max-width:  80px;\n",
       "            font-size:  10pt;\n",
       "        }    #T_a32b8386_ff3f_11e8_a838_f01898001640row5_col0 {\n",
       "            background-color:  #db4e6a;\n",
       "            max-width:  80px;\n",
       "            font-size:  10pt;\n",
       "        }    #T_a32b8386_ff3f_11e8_a838_f01898001640row5_col1 {\n",
       "            background-color:  #d73c5b;\n",
       "            max-width:  80px;\n",
       "            font-size:  10pt;\n",
       "        }    #T_a32b8386_ff3f_11e8_a838_f01898001640row5_col2 {\n",
       "            background-color:  #d94261;\n",
       "            max-width:  80px;\n",
       "            font-size:  10pt;\n",
       "        }    #T_a32b8386_ff3f_11e8_a838_f01898001640row5_col3 {\n",
       "            background-color:  #da4865;\n",
       "            max-width:  80px;\n",
       "            font-size:  10pt;\n",
       "        }    #T_a32b8386_ff3f_11e8_a838_f01898001640row5_col4 {\n",
       "            background-color:  #d5e1f0;\n",
       "            max-width:  80px;\n",
       "            font-size:  10pt;\n",
       "        }    #T_a32b8386_ff3f_11e8_a838_f01898001640row5_col5 {\n",
       "            background-color:  #4479bb;\n",
       "            max-width:  80px;\n",
       "            font-size:  10pt;\n",
       "        }</style>  \n",
       "<table id=\"T_a32b8386_ff3f_11e8_a838_f01898001640\" ><caption>Hover over to magnify</caption> \n",
       "<thead>    <tr> \n",
       "        <th class=\"blank level0\" ></th> \n",
       "        <th class=\"col_heading level0 col0\" >ApplicantIncome</th> \n",
       "        <th class=\"col_heading level0 col1\" >CoapplicantIncome</th> \n",
       "        <th class=\"col_heading level0 col2\" >LoanAmount</th> \n",
       "        <th class=\"col_heading level0 col3\" >Loan_Amount_Term</th> \n",
       "        <th class=\"col_heading level0 col4\" >Credit_History</th> \n",
       "        <th class=\"col_heading level0 col5\" >Loan_Status</th> \n",
       "    </tr></thead> \n",
       "<tbody>    <tr> \n",
       "        <th id=\"T_a32b8386_ff3f_11e8_a838_f01898001640level0_row0\" class=\"row_heading level0 row0\" >ApplicantIncome</th> \n",
       "        <td id=\"T_a32b8386_ff3f_11e8_a838_f01898001640row0_col0\" class=\"data row0 col0\" >1</td> \n",
       "        <td id=\"T_a32b8386_ff3f_11e8_a838_f01898001640row0_col1\" class=\"data row0 col1\" >-0.12</td> \n",
       "        <td id=\"T_a32b8386_ff3f_11e8_a838_f01898001640row0_col2\" class=\"data row0 col2\" >0.57</td> \n",
       "        <td id=\"T_a32b8386_ff3f_11e8_a838_f01898001640row0_col3\" class=\"data row0 col3\" >-0.045</td> \n",
       "        <td id=\"T_a32b8386_ff3f_11e8_a838_f01898001640row0_col4\" class=\"data row0 col4\" >-0.015</td> \n",
       "        <td id=\"T_a32b8386_ff3f_11e8_a838_f01898001640row0_col5\" class=\"data row0 col5\" >-0.0047</td> \n",
       "    </tr>    <tr> \n",
       "        <th id=\"T_a32b8386_ff3f_11e8_a838_f01898001640level0_row1\" class=\"row_heading level0 row1\" >CoapplicantIncome</th> \n",
       "        <td id=\"T_a32b8386_ff3f_11e8_a838_f01898001640row1_col0\" class=\"data row1 col0\" >-0.12</td> \n",
       "        <td id=\"T_a32b8386_ff3f_11e8_a838_f01898001640row1_col1\" class=\"data row1 col1\" >1</td> \n",
       "        <td id=\"T_a32b8386_ff3f_11e8_a838_f01898001640row1_col2\" class=\"data row1 col2\" >0.19</td> \n",
       "        <td id=\"T_a32b8386_ff3f_11e8_a838_f01898001640row1_col3\" class=\"data row1 col3\" >-0.06</td> \n",
       "        <td id=\"T_a32b8386_ff3f_11e8_a838_f01898001640row1_col4\" class=\"data row1 col4\" >-0.0021</td> \n",
       "        <td id=\"T_a32b8386_ff3f_11e8_a838_f01898001640row1_col5\" class=\"data row1 col5\" >-0.059</td> \n",
       "    </tr>    <tr> \n",
       "        <th id=\"T_a32b8386_ff3f_11e8_a838_f01898001640level0_row2\" class=\"row_heading level0 row2\" >LoanAmount</th> \n",
       "        <td id=\"T_a32b8386_ff3f_11e8_a838_f01898001640row2_col0\" class=\"data row2 col0\" >0.57</td> \n",
       "        <td id=\"T_a32b8386_ff3f_11e8_a838_f01898001640row2_col1\" class=\"data row2 col1\" >0.19</td> \n",
       "        <td id=\"T_a32b8386_ff3f_11e8_a838_f01898001640row2_col2\" class=\"data row2 col2\" >1</td> \n",
       "        <td id=\"T_a32b8386_ff3f_11e8_a838_f01898001640row2_col3\" class=\"data row2 col3\" >0.039</td> \n",
       "        <td id=\"T_a32b8386_ff3f_11e8_a838_f01898001640row2_col4\" class=\"data row2 col4\" >-0.0084</td> \n",
       "        <td id=\"T_a32b8386_ff3f_11e8_a838_f01898001640row2_col5\" class=\"data row2 col5\" >-0.037</td> \n",
       "    </tr>    <tr> \n",
       "        <th id=\"T_a32b8386_ff3f_11e8_a838_f01898001640level0_row3\" class=\"row_heading level0 row3\" >Loan_Amount_Term</th> \n",
       "        <td id=\"T_a32b8386_ff3f_11e8_a838_f01898001640row3_col0\" class=\"data row3 col0\" >-0.045</td> \n",
       "        <td id=\"T_a32b8386_ff3f_11e8_a838_f01898001640row3_col1\" class=\"data row3 col1\" >-0.06</td> \n",
       "        <td id=\"T_a32b8386_ff3f_11e8_a838_f01898001640row3_col2\" class=\"data row3 col2\" >0.039</td> \n",
       "        <td id=\"T_a32b8386_ff3f_11e8_a838_f01898001640row3_col3\" class=\"data row3 col3\" >1</td> \n",
       "        <td id=\"T_a32b8386_ff3f_11e8_a838_f01898001640row3_col4\" class=\"data row3 col4\" >0.0015</td> \n",
       "        <td id=\"T_a32b8386_ff3f_11e8_a838_f01898001640row3_col5\" class=\"data row3 col5\" >-0.021</td> \n",
       "    </tr>    <tr> \n",
       "        <th id=\"T_a32b8386_ff3f_11e8_a838_f01898001640level0_row4\" class=\"row_heading level0 row4\" >Credit_History</th> \n",
       "        <td id=\"T_a32b8386_ff3f_11e8_a838_f01898001640row4_col0\" class=\"data row4 col0\" >-0.015</td> \n",
       "        <td id=\"T_a32b8386_ff3f_11e8_a838_f01898001640row4_col1\" class=\"data row4 col1\" >-0.0021</td> \n",
       "        <td id=\"T_a32b8386_ff3f_11e8_a838_f01898001640row4_col2\" class=\"data row4 col2\" >-0.0084</td> \n",
       "        <td id=\"T_a32b8386_ff3f_11e8_a838_f01898001640row4_col3\" class=\"data row4 col3\" >0.0015</td> \n",
       "        <td id=\"T_a32b8386_ff3f_11e8_a838_f01898001640row4_col4\" class=\"data row4 col4\" >1</td> \n",
       "        <td id=\"T_a32b8386_ff3f_11e8_a838_f01898001640row4_col5\" class=\"data row4 col5\" >0.56</td> \n",
       "    </tr>    <tr> \n",
       "        <th id=\"T_a32b8386_ff3f_11e8_a838_f01898001640level0_row5\" class=\"row_heading level0 row5\" >Loan_Status</th> \n",
       "        <td id=\"T_a32b8386_ff3f_11e8_a838_f01898001640row5_col0\" class=\"data row5 col0\" >-0.0047</td> \n",
       "        <td id=\"T_a32b8386_ff3f_11e8_a838_f01898001640row5_col1\" class=\"data row5 col1\" >-0.059</td> \n",
       "        <td id=\"T_a32b8386_ff3f_11e8_a838_f01898001640row5_col2\" class=\"data row5 col2\" >-0.037</td> \n",
       "        <td id=\"T_a32b8386_ff3f_11e8_a838_f01898001640row5_col3\" class=\"data row5 col3\" >-0.021</td> \n",
       "        <td id=\"T_a32b8386_ff3f_11e8_a838_f01898001640row5_col4\" class=\"data row5 col4\" >0.56</td> \n",
       "        <td id=\"T_a32b8386_ff3f_11e8_a838_f01898001640row5_col5\" class=\"data row5 col5\" >1</td> \n",
       "    </tr></tbody> \n",
       "</table> "
      ],
      "text/plain": [
       "<pandas.io.formats.style.Styler at 0x116e49320>"
      ]
     },
     "execution_count": 10,
     "metadata": {},
     "output_type": "execute_result"
    }
   ],
   "source": [
    "# Correlation plot for initial exploration\n",
    "corr = data.corr()\n",
    "cmap = cmap=sns.diverging_palette(5, 250, as_cmap=True)\n",
    "\n",
    "def heatmap():\n",
    "    return [dict(selector=\"th\",\n",
    "                 props=[(\"font-size\", \"7pt\")]),\n",
    "            dict(selector=\"td\",\n",
    "                 props=[('padding', \"0em 0em\")]),\n",
    "            dict(selector=\"th:hover\",\n",
    "                 props=[(\"font-size\", \"13pt\")]),\n",
    "            dict(selector=\"tr:hover td:hover\",\n",
    "                 props=[('max-width', '200px'),\n",
    "                        ('font-size', '13pt')])\n",
    "]\n",
    "\n",
    "corr.style.background_gradient(cmap, axis=1)\\\n",
    "    .set_properties(**{'max-width': '80px', 'font-size': '10pt'})\\\n",
    "    .set_caption(\"Hover over to magnify\")\\\n",
    "    .set_precision(2)\\\n",
    "    .set_table_styles(heatmap())"
   ]
  },
  {
   "cell_type": "markdown",
   "metadata": {},
   "source": [
    "- Here, we can observe that Applicant Income and Loan amount has positive correlation between them.\n",
    "- Credit_History and Loan_Status are also correlated. \n",
    "- Loan Amount is also correlated with Co-applicant's Income.\n",
    "***"
   ]
  },
  {
   "cell_type": "markdown",
   "metadata": {},
   "source": [
    "## 2. Data cleanup and preparation"
   ]
  },
  {
   "cell_type": "code",
   "execution_count": 11,
   "metadata": {},
   "outputs": [
    {
     "data": {
      "text/html": [
       "<div>\n",
       "<style scoped>\n",
       "    .dataframe tbody tr th:only-of-type {\n",
       "        vertical-align: middle;\n",
       "    }\n",
       "\n",
       "    .dataframe tbody tr th {\n",
       "        vertical-align: top;\n",
       "    }\n",
       "\n",
       "    .dataframe thead th {\n",
       "        text-align: right;\n",
       "    }\n",
       "</style>\n",
       "<table border=\"1\" class=\"dataframe\">\n",
       "  <thead>\n",
       "    <tr style=\"text-align: right;\">\n",
       "      <th></th>\n",
       "      <th>Loan_ID</th>\n",
       "      <th>Gender</th>\n",
       "      <th>Married</th>\n",
       "      <th>Dependents</th>\n",
       "      <th>Education</th>\n",
       "      <th>Self_Employed</th>\n",
       "      <th>ApplicantIncome</th>\n",
       "      <th>CoapplicantIncome</th>\n",
       "      <th>LoanAmount</th>\n",
       "      <th>Loan_Amount_Term</th>\n",
       "      <th>Credit_History</th>\n",
       "      <th>Property_Area</th>\n",
       "      <th>Loan_Status</th>\n",
       "    </tr>\n",
       "  </thead>\n",
       "  <tbody>\n",
       "    <tr>\n",
       "      <th>0</th>\n",
       "      <td>LP001002</td>\n",
       "      <td>Male</td>\n",
       "      <td>No</td>\n",
       "      <td>0</td>\n",
       "      <td>Graduate</td>\n",
       "      <td>No</td>\n",
       "      <td>5849</td>\n",
       "      <td>0.0</td>\n",
       "      <td>NaN</td>\n",
       "      <td>360.0</td>\n",
       "      <td>1.0</td>\n",
       "      <td>Urban</td>\n",
       "      <td>1</td>\n",
       "    </tr>\n",
       "    <tr>\n",
       "      <th>1</th>\n",
       "      <td>LP001003</td>\n",
       "      <td>Male</td>\n",
       "      <td>Yes</td>\n",
       "      <td>1</td>\n",
       "      <td>Graduate</td>\n",
       "      <td>No</td>\n",
       "      <td>4583</td>\n",
       "      <td>1508.0</td>\n",
       "      <td>128.0</td>\n",
       "      <td>360.0</td>\n",
       "      <td>1.0</td>\n",
       "      <td>Rural</td>\n",
       "      <td>0</td>\n",
       "    </tr>\n",
       "    <tr>\n",
       "      <th>2</th>\n",
       "      <td>LP001005</td>\n",
       "      <td>Male</td>\n",
       "      <td>Yes</td>\n",
       "      <td>0</td>\n",
       "      <td>Graduate</td>\n",
       "      <td>Yes</td>\n",
       "      <td>3000</td>\n",
       "      <td>0.0</td>\n",
       "      <td>66.0</td>\n",
       "      <td>360.0</td>\n",
       "      <td>1.0</td>\n",
       "      <td>Urban</td>\n",
       "      <td>1</td>\n",
       "    </tr>\n",
       "    <tr>\n",
       "      <th>3</th>\n",
       "      <td>LP001006</td>\n",
       "      <td>Male</td>\n",
       "      <td>Yes</td>\n",
       "      <td>0</td>\n",
       "      <td>Not Graduate</td>\n",
       "      <td>No</td>\n",
       "      <td>2583</td>\n",
       "      <td>2358.0</td>\n",
       "      <td>120.0</td>\n",
       "      <td>360.0</td>\n",
       "      <td>1.0</td>\n",
       "      <td>Urban</td>\n",
       "      <td>1</td>\n",
       "    </tr>\n",
       "    <tr>\n",
       "      <th>4</th>\n",
       "      <td>LP001008</td>\n",
       "      <td>Male</td>\n",
       "      <td>No</td>\n",
       "      <td>0</td>\n",
       "      <td>Graduate</td>\n",
       "      <td>No</td>\n",
       "      <td>6000</td>\n",
       "      <td>0.0</td>\n",
       "      <td>141.0</td>\n",
       "      <td>360.0</td>\n",
       "      <td>1.0</td>\n",
       "      <td>Urban</td>\n",
       "      <td>1</td>\n",
       "    </tr>\n",
       "  </tbody>\n",
       "</table>\n",
       "</div>"
      ],
      "text/plain": [
       "    Loan_ID Gender Married Dependents     Education Self_Employed  \\\n",
       "0  LP001002   Male      No          0      Graduate            No   \n",
       "1  LP001003   Male     Yes          1      Graduate            No   \n",
       "2  LP001005   Male     Yes          0      Graduate           Yes   \n",
       "3  LP001006   Male     Yes          0  Not Graduate            No   \n",
       "4  LP001008   Male      No          0      Graduate            No   \n",
       "\n",
       "   ApplicantIncome  CoapplicantIncome  LoanAmount  Loan_Amount_Term  \\\n",
       "0             5849                0.0         NaN             360.0   \n",
       "1             4583             1508.0       128.0             360.0   \n",
       "2             3000                0.0        66.0             360.0   \n",
       "3             2583             2358.0       120.0             360.0   \n",
       "4             6000                0.0       141.0             360.0   \n",
       "\n",
       "   Credit_History Property_Area  Loan_Status  \n",
       "0             1.0         Urban            1  \n",
       "1             1.0         Rural            0  \n",
       "2             1.0         Urban            1  \n",
       "3             1.0         Urban            1  \n",
       "4             1.0         Urban            1  "
      ]
     },
     "execution_count": 11,
     "metadata": {},
     "output_type": "execute_result"
    }
   ],
   "source": [
    "data.head()"
   ]
  },
  {
   "cell_type": "markdown",
   "metadata": {},
   "source": [
    "#### Dropping unwanted columns "
   ]
  },
  {
   "cell_type": "code",
   "execution_count": 12,
   "metadata": {},
   "outputs": [
    {
     "data": {
      "text/html": [
       "<div>\n",
       "<style scoped>\n",
       "    .dataframe tbody tr th:only-of-type {\n",
       "        vertical-align: middle;\n",
       "    }\n",
       "\n",
       "    .dataframe tbody tr th {\n",
       "        vertical-align: top;\n",
       "    }\n",
       "\n",
       "    .dataframe thead th {\n",
       "        text-align: right;\n",
       "    }\n",
       "</style>\n",
       "<table border=\"1\" class=\"dataframe\">\n",
       "  <thead>\n",
       "    <tr style=\"text-align: right;\">\n",
       "      <th></th>\n",
       "      <th>Gender</th>\n",
       "      <th>Married</th>\n",
       "      <th>Dependents</th>\n",
       "      <th>Education</th>\n",
       "      <th>Self_Employed</th>\n",
       "      <th>ApplicantIncome</th>\n",
       "      <th>CoapplicantIncome</th>\n",
       "      <th>LoanAmount</th>\n",
       "      <th>Loan_Amount_Term</th>\n",
       "      <th>Credit_History</th>\n",
       "      <th>Property_Area</th>\n",
       "      <th>Loan_Status</th>\n",
       "    </tr>\n",
       "  </thead>\n",
       "  <tbody>\n",
       "    <tr>\n",
       "      <th>0</th>\n",
       "      <td>Male</td>\n",
       "      <td>No</td>\n",
       "      <td>0</td>\n",
       "      <td>Graduate</td>\n",
       "      <td>No</td>\n",
       "      <td>5849</td>\n",
       "      <td>0.0</td>\n",
       "      <td>NaN</td>\n",
       "      <td>360.0</td>\n",
       "      <td>1.0</td>\n",
       "      <td>Urban</td>\n",
       "      <td>1</td>\n",
       "    </tr>\n",
       "    <tr>\n",
       "      <th>1</th>\n",
       "      <td>Male</td>\n",
       "      <td>Yes</td>\n",
       "      <td>1</td>\n",
       "      <td>Graduate</td>\n",
       "      <td>No</td>\n",
       "      <td>4583</td>\n",
       "      <td>1508.0</td>\n",
       "      <td>128.0</td>\n",
       "      <td>360.0</td>\n",
       "      <td>1.0</td>\n",
       "      <td>Rural</td>\n",
       "      <td>0</td>\n",
       "    </tr>\n",
       "    <tr>\n",
       "      <th>2</th>\n",
       "      <td>Male</td>\n",
       "      <td>Yes</td>\n",
       "      <td>0</td>\n",
       "      <td>Graduate</td>\n",
       "      <td>Yes</td>\n",
       "      <td>3000</td>\n",
       "      <td>0.0</td>\n",
       "      <td>66.0</td>\n",
       "      <td>360.0</td>\n",
       "      <td>1.0</td>\n",
       "      <td>Urban</td>\n",
       "      <td>1</td>\n",
       "    </tr>\n",
       "    <tr>\n",
       "      <th>3</th>\n",
       "      <td>Male</td>\n",
       "      <td>Yes</td>\n",
       "      <td>0</td>\n",
       "      <td>Not Graduate</td>\n",
       "      <td>No</td>\n",
       "      <td>2583</td>\n",
       "      <td>2358.0</td>\n",
       "      <td>120.0</td>\n",
       "      <td>360.0</td>\n",
       "      <td>1.0</td>\n",
       "      <td>Urban</td>\n",
       "      <td>1</td>\n",
       "    </tr>\n",
       "    <tr>\n",
       "      <th>4</th>\n",
       "      <td>Male</td>\n",
       "      <td>No</td>\n",
       "      <td>0</td>\n",
       "      <td>Graduate</td>\n",
       "      <td>No</td>\n",
       "      <td>6000</td>\n",
       "      <td>0.0</td>\n",
       "      <td>141.0</td>\n",
       "      <td>360.0</td>\n",
       "      <td>1.0</td>\n",
       "      <td>Urban</td>\n",
       "      <td>1</td>\n",
       "    </tr>\n",
       "  </tbody>\n",
       "</table>\n",
       "</div>"
      ],
      "text/plain": [
       "  Gender Married Dependents     Education Self_Employed  ApplicantIncome  \\\n",
       "0   Male      No          0      Graduate            No             5849   \n",
       "1   Male     Yes          1      Graduate            No             4583   \n",
       "2   Male     Yes          0      Graduate           Yes             3000   \n",
       "3   Male     Yes          0  Not Graduate            No             2583   \n",
       "4   Male      No          0      Graduate            No             6000   \n",
       "\n",
       "   CoapplicantIncome  LoanAmount  Loan_Amount_Term  Credit_History  \\\n",
       "0                0.0         NaN             360.0             1.0   \n",
       "1             1508.0       128.0             360.0             1.0   \n",
       "2                0.0        66.0             360.0             1.0   \n",
       "3             2358.0       120.0             360.0             1.0   \n",
       "4                0.0       141.0             360.0             1.0   \n",
       "\n",
       "  Property_Area  Loan_Status  \n",
       "0         Urban            1  \n",
       "1         Rural            0  \n",
       "2         Urban            1  \n",
       "3         Urban            1  \n",
       "4         Urban            1  "
      ]
     },
     "execution_count": 12,
     "metadata": {},
     "output_type": "execute_result"
    }
   ],
   "source": [
    "# Drop the Loan_ID variable as it do not have any effect on the loan status\n",
    "data = data.drop('Loan_ID',axis=1)\n",
    "test = test.drop('Loan_ID',axis=1)\n",
    "data.head()"
   ]
  },
  {
   "cell_type": "markdown",
   "metadata": {},
   "source": [
    "#### Renaming columns "
   ]
  },
  {
   "cell_type": "code",
   "execution_count": 13,
   "metadata": {},
   "outputs": [
    {
     "data": {
      "text/html": [
       "<div>\n",
       "<style scoped>\n",
       "    .dataframe tbody tr th:only-of-type {\n",
       "        vertical-align: middle;\n",
       "    }\n",
       "\n",
       "    .dataframe tbody tr th {\n",
       "        vertical-align: top;\n",
       "    }\n",
       "\n",
       "    .dataframe thead th {\n",
       "        text-align: right;\n",
       "    }\n",
       "</style>\n",
       "<table border=\"1\" class=\"dataframe\">\n",
       "  <thead>\n",
       "    <tr style=\"text-align: right;\">\n",
       "      <th></th>\n",
       "      <th>Gender</th>\n",
       "      <th>Married</th>\n",
       "      <th>Dependents</th>\n",
       "      <th>Education</th>\n",
       "      <th>Self_Employed</th>\n",
       "      <th>Applicant_Income</th>\n",
       "      <th>Coapplicant_Income</th>\n",
       "      <th>Loan_Amount</th>\n",
       "      <th>Loan_Amount_Term</th>\n",
       "      <th>Credit_History</th>\n",
       "      <th>Property_Area</th>\n",
       "      <th>Loan_Status</th>\n",
       "    </tr>\n",
       "  </thead>\n",
       "  <tbody>\n",
       "    <tr>\n",
       "      <th>0</th>\n",
       "      <td>Male</td>\n",
       "      <td>No</td>\n",
       "      <td>0</td>\n",
       "      <td>Graduate</td>\n",
       "      <td>No</td>\n",
       "      <td>5849</td>\n",
       "      <td>0.0</td>\n",
       "      <td>NaN</td>\n",
       "      <td>360.0</td>\n",
       "      <td>1.0</td>\n",
       "      <td>Urban</td>\n",
       "      <td>1</td>\n",
       "    </tr>\n",
       "    <tr>\n",
       "      <th>1</th>\n",
       "      <td>Male</td>\n",
       "      <td>Yes</td>\n",
       "      <td>1</td>\n",
       "      <td>Graduate</td>\n",
       "      <td>No</td>\n",
       "      <td>4583</td>\n",
       "      <td>1508.0</td>\n",
       "      <td>128.0</td>\n",
       "      <td>360.0</td>\n",
       "      <td>1.0</td>\n",
       "      <td>Rural</td>\n",
       "      <td>0</td>\n",
       "    </tr>\n",
       "    <tr>\n",
       "      <th>2</th>\n",
       "      <td>Male</td>\n",
       "      <td>Yes</td>\n",
       "      <td>0</td>\n",
       "      <td>Graduate</td>\n",
       "      <td>Yes</td>\n",
       "      <td>3000</td>\n",
       "      <td>0.0</td>\n",
       "      <td>66.0</td>\n",
       "      <td>360.0</td>\n",
       "      <td>1.0</td>\n",
       "      <td>Urban</td>\n",
       "      <td>1</td>\n",
       "    </tr>\n",
       "    <tr>\n",
       "      <th>3</th>\n",
       "      <td>Male</td>\n",
       "      <td>Yes</td>\n",
       "      <td>0</td>\n",
       "      <td>Not Graduate</td>\n",
       "      <td>No</td>\n",
       "      <td>2583</td>\n",
       "      <td>2358.0</td>\n",
       "      <td>120.0</td>\n",
       "      <td>360.0</td>\n",
       "      <td>1.0</td>\n",
       "      <td>Urban</td>\n",
       "      <td>1</td>\n",
       "    </tr>\n",
       "    <tr>\n",
       "      <th>4</th>\n",
       "      <td>Male</td>\n",
       "      <td>No</td>\n",
       "      <td>0</td>\n",
       "      <td>Graduate</td>\n",
       "      <td>No</td>\n",
       "      <td>6000</td>\n",
       "      <td>0.0</td>\n",
       "      <td>141.0</td>\n",
       "      <td>360.0</td>\n",
       "      <td>1.0</td>\n",
       "      <td>Urban</td>\n",
       "      <td>1</td>\n",
       "    </tr>\n",
       "  </tbody>\n",
       "</table>\n",
       "</div>"
      ],
      "text/plain": [
       "  Gender Married Dependents     Education Self_Employed  Applicant_Income  \\\n",
       "0   Male      No          0      Graduate            No              5849   \n",
       "1   Male     Yes          1      Graduate            No              4583   \n",
       "2   Male     Yes          0      Graduate           Yes              3000   \n",
       "3   Male     Yes          0  Not Graduate            No              2583   \n",
       "4   Male      No          0      Graduate            No              6000   \n",
       "\n",
       "   Coapplicant_Income  Loan_Amount  Loan_Amount_Term  Credit_History  \\\n",
       "0                 0.0          NaN             360.0             1.0   \n",
       "1              1508.0        128.0             360.0             1.0   \n",
       "2                 0.0         66.0             360.0             1.0   \n",
       "3              2358.0        120.0             360.0             1.0   \n",
       "4                 0.0        141.0             360.0             1.0   \n",
       "\n",
       "  Property_Area  Loan_Status  \n",
       "0         Urban            1  \n",
       "1         Rural            0  \n",
       "2         Urban            1  \n",
       "3         Urban            1  \n",
       "4         Urban            1  "
      ]
     },
     "execution_count": 13,
     "metadata": {},
     "output_type": "execute_result"
    }
   ],
   "source": [
    "# Setting new names\n",
    "new_cols = {'ApplicantIncome': 'Applicant_Income',\n",
    "            'CoapplicantIncome': 'Coapplicant_Income',\n",
    "            'LoanAmount': 'Loan_Amount'}\n",
    "\n",
    "# Renaming using pandas rename\n",
    "data.rename(columns=new_cols, inplace=True)\n",
    "test.rename(columns=new_cols, inplace=True)\n",
    "data.head()"
   ]
  },
  {
   "cell_type": "markdown",
   "metadata": {},
   "source": [
    "#### Removing/filling missing data"
   ]
  },
  {
   "cell_type": "code",
   "execution_count": 14,
   "metadata": {},
   "outputs": [
    {
     "data": {
      "text/html": [
       "<div>\n",
       "<style scoped>\n",
       "    .dataframe tbody tr th:only-of-type {\n",
       "        vertical-align: middle;\n",
       "    }\n",
       "\n",
       "    .dataframe tbody tr th {\n",
       "        vertical-align: top;\n",
       "    }\n",
       "\n",
       "    .dataframe thead th {\n",
       "        text-align: right;\n",
       "    }\n",
       "</style>\n",
       "<table border=\"1\" class=\"dataframe\">\n",
       "  <thead>\n",
       "    <tr style=\"text-align: right;\">\n",
       "      <th></th>\n",
       "      <th>Applicant_Income</th>\n",
       "      <th>Coapplicant_Income</th>\n",
       "      <th>Loan_Amount</th>\n",
       "      <th>Loan_Amount_Term</th>\n",
       "      <th>Credit_History</th>\n",
       "      <th>Loan_Status</th>\n",
       "    </tr>\n",
       "  </thead>\n",
       "  <tbody>\n",
       "    <tr>\n",
       "      <th>count</th>\n",
       "      <td>614.000000</td>\n",
       "      <td>614.000000</td>\n",
       "      <td>592.000000</td>\n",
       "      <td>600.00000</td>\n",
       "      <td>564.000000</td>\n",
       "      <td>614.000000</td>\n",
       "    </tr>\n",
       "    <tr>\n",
       "      <th>mean</th>\n",
       "      <td>5403.459283</td>\n",
       "      <td>1621.245798</td>\n",
       "      <td>146.412162</td>\n",
       "      <td>342.00000</td>\n",
       "      <td>0.842199</td>\n",
       "      <td>0.687296</td>\n",
       "    </tr>\n",
       "    <tr>\n",
       "      <th>std</th>\n",
       "      <td>6109.041673</td>\n",
       "      <td>2926.248369</td>\n",
       "      <td>85.587325</td>\n",
       "      <td>65.12041</td>\n",
       "      <td>0.364878</td>\n",
       "      <td>0.463973</td>\n",
       "    </tr>\n",
       "    <tr>\n",
       "      <th>min</th>\n",
       "      <td>150.000000</td>\n",
       "      <td>0.000000</td>\n",
       "      <td>9.000000</td>\n",
       "      <td>12.00000</td>\n",
       "      <td>0.000000</td>\n",
       "      <td>0.000000</td>\n",
       "    </tr>\n",
       "    <tr>\n",
       "      <th>25%</th>\n",
       "      <td>2877.500000</td>\n",
       "      <td>0.000000</td>\n",
       "      <td>100.000000</td>\n",
       "      <td>360.00000</td>\n",
       "      <td>1.000000</td>\n",
       "      <td>0.000000</td>\n",
       "    </tr>\n",
       "    <tr>\n",
       "      <th>50%</th>\n",
       "      <td>3812.500000</td>\n",
       "      <td>1188.500000</td>\n",
       "      <td>128.000000</td>\n",
       "      <td>360.00000</td>\n",
       "      <td>1.000000</td>\n",
       "      <td>1.000000</td>\n",
       "    </tr>\n",
       "    <tr>\n",
       "      <th>75%</th>\n",
       "      <td>5795.000000</td>\n",
       "      <td>2297.250000</td>\n",
       "      <td>168.000000</td>\n",
       "      <td>360.00000</td>\n",
       "      <td>1.000000</td>\n",
       "      <td>1.000000</td>\n",
       "    </tr>\n",
       "    <tr>\n",
       "      <th>max</th>\n",
       "      <td>81000.000000</td>\n",
       "      <td>41667.000000</td>\n",
       "      <td>700.000000</td>\n",
       "      <td>480.00000</td>\n",
       "      <td>1.000000</td>\n",
       "      <td>1.000000</td>\n",
       "    </tr>\n",
       "  </tbody>\n",
       "</table>\n",
       "</div>"
      ],
      "text/plain": [
       "       Applicant_Income  Coapplicant_Income  Loan_Amount  Loan_Amount_Term  \\\n",
       "count        614.000000          614.000000   592.000000         600.00000   \n",
       "mean        5403.459283         1621.245798   146.412162         342.00000   \n",
       "std         6109.041673         2926.248369    85.587325          65.12041   \n",
       "min          150.000000            0.000000     9.000000          12.00000   \n",
       "25%         2877.500000            0.000000   100.000000         360.00000   \n",
       "50%         3812.500000         1188.500000   128.000000         360.00000   \n",
       "75%         5795.000000         2297.250000   168.000000         360.00000   \n",
       "max        81000.000000        41667.000000   700.000000         480.00000   \n",
       "\n",
       "       Credit_History  Loan_Status  \n",
       "count      564.000000   614.000000  \n",
       "mean         0.842199     0.687296  \n",
       "std          0.364878     0.463973  \n",
       "min          0.000000     0.000000  \n",
       "25%          1.000000     0.000000  \n",
       "50%          1.000000     1.000000  \n",
       "75%          1.000000     1.000000  \n",
       "max          1.000000     1.000000  "
      ]
     },
     "execution_count": 14,
     "metadata": {},
     "output_type": "execute_result"
    }
   ],
   "source": [
    "data.describe()"
   ]
  },
  {
   "cell_type": "markdown",
   "metadata": {},
   "source": [
    "- We can see that there are columns that have a minimum value of zero (0.00). On some columns, a value of zero does not make sense and indicates an invalid or missing value. \n",
    "- Let's first check if data has missing value and them treat them accordingly"
   ]
  },
  {
   "cell_type": "markdown",
   "metadata": {},
   "source": [
    "#### Check all variables missing values count"
   ]
  },
  {
   "cell_type": "code",
   "execution_count": 15,
   "metadata": {},
   "outputs": [
    {
     "name": "stdout",
     "output_type": "stream",
     "text": [
      "Gender                13\n",
      "Married                3\n",
      "Dependents            15\n",
      "Education              0\n",
      "Self_Employed         32\n",
      "Applicant_Income       0\n",
      "Coapplicant_Income     0\n",
      "Loan_Amount           22\n",
      "Loan_Amount_Term      14\n",
      "Credit_History        50\n",
      "Property_Area          0\n",
      "Loan_Status            0\n",
      "dtype: int64\n"
     ]
    }
   ],
   "source": [
    "# count the number of missings in each column\n",
    "print(data.isnull().sum())"
   ]
  },
  {
   "cell_type": "markdown",
   "metadata": {},
   "source": [
    "#### Treat the missing data in categorical variables by imputation using mode"
   ]
  },
  {
   "cell_type": "code",
   "execution_count": 16,
   "metadata": {},
   "outputs": [
    {
     "name": "stdout",
     "output_type": "stream",
     "text": [
      "Gender                 0\n",
      "Married                0\n",
      "Dependents             0\n",
      "Education              0\n",
      "Self_Employed          0\n",
      "Applicant_Income       0\n",
      "Coapplicant_Income     0\n",
      "Loan_Amount           22\n",
      "Loan_Amount_Term      14\n",
      "Credit_History         0\n",
      "Property_Area          0\n",
      "Loan_Status            0\n",
      "dtype: int64\n"
     ]
    }
   ],
   "source": [
    "# Replace missing values with mode\n",
    "data['Gender'].fillna(data['Gender'].mode()[0], inplace=True)\n",
    "data['Married'].fillna(data['Married'].mode()[0], inplace=True)\n",
    "data['Dependents'].fillna(data['Dependents'].mode()[0], inplace=True)\n",
    "data['Self_Employed'].fillna(data['Self_Employed'].mode()[0], inplace=True)\n",
    "data['Credit_History'].fillna(data['Credit_History'].mode()[0], inplace=True)\n",
    "print(data.isnull().sum())"
   ]
  },
  {
   "cell_type": "markdown",
   "metadata": {},
   "source": [
    "- There are very less missing values in Gender, Married, Dependents, Credit_History and Self_Employed variables so I impyted them using the mode of the variable. Now you can see that there are 0 null for them except Loan_Amount and Loan_Amount_Term which are important variables in our analysis\n",
    "***"
   ]
  },
  {
   "cell_type": "markdown",
   "metadata": {},
   "source": [
    "#### Treat Loan_Amount feature"
   ]
  },
  {
   "cell_type": "code",
   "execution_count": 17,
   "metadata": {},
   "outputs": [],
   "source": [
    "# Replace missing values with median\n",
    "data['Loan_Amount'].fillna(data['Loan_Amount'].median(), inplace=True)"
   ]
  },
  {
   "cell_type": "markdown",
   "metadata": {},
   "source": [
    "- I filled median for missing loan amounts as there are outliers in data, it is not good idea to impute loan amount with mode, that's why I imputed it with median of the Loan_Amount variable\n",
    "***"
   ]
  },
  {
   "cell_type": "markdown",
   "metadata": {},
   "source": [
    "#### Treat Loan_Amount_Term feature"
   ]
  },
  {
   "cell_type": "code",
   "execution_count": 18,
   "metadata": {},
   "outputs": [
    {
     "data": {
      "text/plain": [
       "360.0    512\n",
       "180.0     44\n",
       "480.0     15\n",
       "300.0     13\n",
       "84.0       4\n",
       "240.0      4\n",
       "120.0      3\n",
       "36.0       2\n",
       "60.0       2\n",
       "12.0       1\n",
       "Name: Loan_Amount_Term, dtype: int64"
      ]
     },
     "execution_count": 18,
     "metadata": {},
     "output_type": "execute_result"
    }
   ],
   "source": [
    "# Get calue count\n",
    "data['Loan_Amount_Term'].value_counts()"
   ]
  },
  {
   "cell_type": "markdown",
   "metadata": {},
   "source": [
    "In the Loan_Amount_Term variable, the value of 360 is repeating (512 times) the most. That's why I am replacing the missing values in Loan_Amount_Term variable using the mode of this variable."
   ]
  },
  {
   "cell_type": "code",
   "execution_count": 19,
   "metadata": {},
   "outputs": [],
   "source": [
    "# Replace missing values with mode\n",
    "data['Loan_Amount_Term'].fillna(data['Loan_Amount_Term'].mode()[0], inplace=True)"
   ]
  },
  {
   "cell_type": "code",
   "execution_count": 20,
   "metadata": {},
   "outputs": [
    {
     "data": {
      "text/plain": [
       "Gender                0\n",
       "Married               0\n",
       "Dependents            0\n",
       "Education             0\n",
       "Self_Employed         0\n",
       "Applicant_Income      0\n",
       "Coapplicant_Income    0\n",
       "Loan_Amount           0\n",
       "Loan_Amount_Term      0\n",
       "Credit_History        0\n",
       "Property_Area         0\n",
       "Loan_Status           0\n",
       "dtype: int64"
      ]
     },
     "execution_count": 20,
     "metadata": {},
     "output_type": "execute_result"
    }
   ],
   "source": [
    "# Check data for null/missing values\n",
    "data.isnull().sum()"
   ]
  },
  {
   "cell_type": "markdown",
   "metadata": {},
   "source": [
    "Finally all the missing values in the training dataset are treated correctly."
   ]
  },
  {
   "cell_type": "markdown",
   "metadata": {},
   "source": [
    "#### Treating the outliers in Loan_Amount"
   ]
  },
  {
   "cell_type": "code",
   "execution_count": 21,
   "metadata": {},
   "outputs": [
    {
     "data": {
      "image/png": "[encoded data removed]",
      "text/plain": [
       "<Figure size 432x288 with 1 Axes>"
      ]
     },
     "metadata": {
      "needs_background": "light"
     },
     "output_type": "display_data"
    }
   ],
   "source": [
    "# Analyze variable to treat\n",
    "data['Loan_Amount'].plot.box()\n",
    "plt.show()"
   ]
  },
  {
   "cell_type": "markdown",
   "metadata": {},
   "source": [
    "- As we can see that there are lots of outliers in Loan Amount variable, I am doing the log transformation of its data as, taking the log transformation, it does not affect the smaller values much, but reduces the larger values. So, I will get a distribution similar to normal distribution."
   ]
  },
  {
   "cell_type": "code",
   "execution_count": 22,
   "metadata": {},
   "outputs": [
    {
     "data": {
      "text/plain": [
       "<matplotlib.axes._subplots.AxesSubplot at 0x123e20400>"
      ]
     },
     "execution_count": 22,
     "metadata": {},
     "output_type": "execute_result"
    },
    {
     "data": {
      "image/png": "[encoded data removed]",
      "text/plain": [
       "<Figure size 432x288 with 1 Axes>"
      ]
     },
     "metadata": {
      "needs_background": "light"
     },
     "output_type": "display_data"
    }
   ],
   "source": [
    "# Treat outliers\n",
    "data['Loan_Amount_Log'] = np.log(data['Loan_Amount'])\n",
    "data['Loan_Amount_Log'].hist(bins=20)"
   ]
  },
  {
   "cell_type": "markdown",
   "metadata": {},
   "source": [
    "- Now the distribution looks much similar to normal distribution and effect of outliers has been significantly reduced."
   ]
  },
  {
   "cell_type": "markdown",
   "metadata": {},
   "source": [
    "#### Treat test dataset similarly"
   ]
  },
  {
   "cell_type": "code",
   "execution_count": 23,
   "metadata": {},
   "outputs": [],
   "source": [
    "# Similar changes in test set\n",
    "test['Gender'].fillna(test['Gender'].mode()[0], inplace=True)\n",
    "test['Dependents'].fillna(test['Dependents'].mode()[0], inplace=True)\n",
    "test['Self_Employed'].fillna(test['Self_Employed'].mode()[0], inplace=True)\n",
    "test['Credit_History'].fillna(test['Credit_History'].mode()[0], inplace=True)\n",
    "test['Loan_Amount_Term'].fillna(test['Loan_Amount_Term'].mode()[0], inplace=True)\n",
    "test['Loan_Amount'].fillna(test['Loan_Amount'].median(), inplace=True)"
   ]
  },
  {
   "cell_type": "code",
   "execution_count": 24,
   "metadata": {},
   "outputs": [],
   "source": [
    "test['Loan_Amount_Log'] = np.log(test['Loan_Amount'])"
   ]
  },
  {
   "cell_type": "code",
   "execution_count": 25,
   "metadata": {},
   "outputs": [
    {
     "data": {
      "text/plain": [
       "Gender                0\n",
       "Married               0\n",
       "Dependents            0\n",
       "Education             0\n",
       "Self_Employed         0\n",
       "Applicant_Income      0\n",
       "Coapplicant_Income    0\n",
       "Loan_Amount           0\n",
       "Loan_Amount_Term      0\n",
       "Credit_History        0\n",
       "Property_Area         0\n",
       "Loan_Amount_Log       0\n",
       "dtype: int64"
      ]
     },
     "execution_count": 25,
     "metadata": {},
     "output_type": "execute_result"
    }
   ],
   "source": [
    "test.isnull().sum()"
   ]
  },
  {
   "cell_type": "markdown",
   "metadata": {},
   "source": [
    "- Now our missing values and outliers are treated in test dataset as well\n",
    "***"
   ]
  },
  {
   "cell_type": "markdown",
   "metadata": {},
   "source": [
    "## 3. Data visualization "
   ]
  },
  {
   "cell_type": "markdown",
   "metadata": {},
   "source": [
    "### Observe relationship between each parameter and target variable"
   ]
  },
  {
   "cell_type": "markdown",
   "metadata": {},
   "source": [
    "#### Analyze target variable first"
   ]
  },
  {
   "cell_type": "code",
   "execution_count": 26,
   "metadata": {},
   "outputs": [
    {
     "data": {
      "text/plain": [
       "(614, 13)"
      ]
     },
     "execution_count": 26,
     "metadata": {},
     "output_type": "execute_result"
    }
   ],
   "source": [
    "data.shape"
   ]
  },
  {
   "cell_type": "code",
   "execution_count": 27,
   "metadata": {},
   "outputs": [
    {
     "data": {
      "text/plain": [
       "1    422\n",
       "0    192\n",
       "Name: Loan_Status, dtype: int64"
      ]
     },
     "execution_count": 27,
     "metadata": {},
     "output_type": "execute_result"
    }
   ],
   "source": [
    "# Gives count of Yes/No loan status\n",
    "data['Loan_Status'].value_counts()"
   ]
  },
  {
   "cell_type": "code",
   "execution_count": 28,
   "metadata": {},
   "outputs": [
    {
     "data": {
      "text/plain": [
       "<matplotlib.axes._subplots.AxesSubplot at 0x123f4d470>"
      ]
     },
     "execution_count": 28,
     "metadata": {},
     "output_type": "execute_result"
    },
    {
     "data": {
      "image/png": "[encoded data removed]",
      "text/plain": [
       "<Figure size 432x288 with 1 Axes>"
      ]
     },
     "metadata": {
      "needs_background": "light"
     },
     "output_type": "display_data"
    }
   ],
   "source": [
    "# Plot the counts of loan status\n",
    "data['Loan_Status'].value_counts().plot.bar()"
   ]
  },
  {
   "cell_type": "markdown",
   "metadata": {},
   "source": [
    "The loan of 422 people out of 614 was approved and 192 was not approved."
   ]
  },
  {
   "cell_type": "code",
   "execution_count": 29,
   "metadata": {},
   "outputs": [
    {
     "data": {
      "text/plain": [
       "1    0.687296\n",
       "0    0.312704\n",
       "Name: Loan_Status, dtype: float64"
      ]
     },
     "execution_count": 29,
     "metadata": {},
     "output_type": "execute_result"
    }
   ],
   "source": [
    "# Normalize is set to True to print percentage instead of number \n",
    "data['Loan_Status'].value_counts(normalize=True)"
   ]
  },
  {
   "cell_type": "markdown",
   "metadata": {},
   "source": [
    "### Visualize Categorical and Ordinal variables"
   ]
  },
  {
   "cell_type": "code",
   "execution_count": 30,
   "metadata": {},
   "outputs": [
    {
     "data": {
      "image/png": "[encoded data removed]",
      "text/plain": [
       "<Figure size 1800x1440 with 7 Axes>"
      ]
     },
     "metadata": {
      "needs_background": "light"
     },
     "output_type": "display_data"
    }
   ],
   "source": [
    "# Visualize each variable\n",
    "plt.figure()\n",
    "plt.subplot(331)\n",
    "data['Gender'].value_counts(normalize=True).plot.bar(figsize=(25,20), title= 'Gender')\n",
    "\n",
    "plt.subplot(332)\n",
    "data['Married'].value_counts(normalize=True).plot.bar(title= 'Married')\n",
    "\n",
    "plt.subplot(333)\n",
    "data['Dependents'].value_counts(normalize=True).plot.bar(title= 'Dependents')\n",
    "\n",
    "\n",
    "plt.subplot(334)\n",
    "data['Education'].value_counts(normalize=True).plot.bar(title= 'Education')\n",
    "\n",
    "plt.subplot(335)\n",
    "data['Self_Employed'].value_counts(normalize=True).plot.bar(title= 'Self_Employed')\n",
    "\n",
    "\n",
    "plt.subplot(336)\n",
    "data['Credit_History'].value_counts(normalize=True).plot.bar(title= 'Credit_History')\n",
    "\n",
    "plt.subplot(337)\n",
    "data['Property_Area'].value_counts(normalize=True).plot.bar(title= 'Property_Area')\n",
    "\n",
    "plt.tight_layout()\n",
    "plt.show()"
   ]
  },
  {
   "cell_type": "markdown",
   "metadata": {},
   "source": [
    "Following interpreations can be observed from above plots:\n",
    "\n",
    "- About 80% of applicants are male and 20% are female.\n",
    "- About 65% of the applicants are married and 35% are unmarried.\n",
    "- For most applicants number of dependents is zero\n",
    "- Graduate applicants are the most, around 80%.\n",
    "- Around 83%% applicants are not self employed but 17% are self employed\n",
    "- Around 82% applicants have repaid their debts and 18% have not\n",
    "- Applicants from Semiurban area have applied for the more home loans as compared to Urban and Rural area.\n",
    "***"
   ]
  },
  {
   "cell_type": "markdown",
   "metadata": {},
   "source": [
    "### Visualize Numerical Variables"
   ]
  },
  {
   "cell_type": "markdown",
   "metadata": {},
   "source": [
    "#### Observe Applicant_Income parameter"
   ]
  },
  {
   "cell_type": "code",
   "execution_count": 31,
   "metadata": {},
   "outputs": [
    {
     "data": {
      "image/png": "[encoded data removed]",
      "text/plain": [
       "<Figure size 1152x360 with 2 Axes>"
      ]
     },
     "metadata": {
      "needs_background": "light"
     },
     "output_type": "display_data"
    }
   ],
   "source": [
    "# Visualize/Analyze Applicant_Income feature\n",
    "plt.figure(1)\n",
    "\n",
    "plt.subplot(121)\n",
    "data['Applicant_Income'].plot.box(figsize=(16,5));\n",
    "\n",
    "plt.subplot(122)\n",
    "sns.distplot(data['Applicant_Income'])\n",
    "\n",
    "plt.show()"
   ]
  },
  {
   "cell_type": "markdown",
   "metadata": {},
   "source": [
    "- It can be inferred from above plots that most of the data in the distribution of applicant income is right skewed which means it is not normally distributed.\n",
    "- The boxplot shows the presence of a lot of outliers in the data. This can be attributed to the income disparity in the society. \n",
    "- Part of this can be driven by the fact that we are looking at people with different education levels or Property Areas . Let us segregate them by Education and Property Area"
   ]
  },
  {
   "cell_type": "code",
   "execution_count": 32,
   "metadata": {},
   "outputs": [
    {
     "data": {
      "text/plain": [
       "Text(0.5, 0.98, '')"
      ]
     },
     "execution_count": 32,
     "metadata": {},
     "output_type": "execute_result"
    },
    {
     "data": {
      "image/png": "[encoded data removed]",
      "text/plain": [
       "<Figure size 432x288 with 1 Axes>"
      ]
     },
     "metadata": {
      "needs_background": "light"
     },
     "output_type": "display_data"
    }
   ],
   "source": [
    "# Group by their Education levels\n",
    "data.boxplot(column='Applicant_Income', by = 'Education')\n",
    "plt.suptitle(\"\")"
   ]
  },
  {
   "cell_type": "markdown",
   "metadata": {},
   "source": [
    "- We can see that the outliers are appearing to be the graduates with a very high incomes."
   ]
  },
  {
   "cell_type": "code",
   "execution_count": 33,
   "metadata": {},
   "outputs": [
    {
     "data": {
      "text/plain": [
       "Text(0.5, 0.98, '')"
      ]
     },
     "execution_count": 33,
     "metadata": {},
     "output_type": "execute_result"
    },
    {
     "data": {
      "image/png": "[encoded data removed]",
      "text/plain": [
       "<Figure size 432x288 with 1 Axes>"
      ]
     },
     "metadata": {
      "needs_background": "light"
     },
     "output_type": "display_data"
    }
   ],
   "source": [
    "# Group by their Property areas\n",
    "data.boxplot(column='Applicant_Income', by = 'Property_Area')\n",
    "plt.suptitle(\"\")"
   ]
  },
  {
   "cell_type": "markdown",
   "metadata": {},
   "source": [
    "- However, the property area have nearly same number of outliers for all areas.\n",
    "***"
   ]
  },
  {
   "cell_type": "markdown",
   "metadata": {},
   "source": [
    "#### Observe Loan_Amount parameter"
   ]
  },
  {
   "cell_type": "code",
   "execution_count": 34,
   "metadata": {},
   "outputs": [
    {
     "data": {
      "image/png": "[encoded data removed]",
      "text/plain": [
       "<Figure size 1152x360 with 2 Axes>"
      ]
     },
     "metadata": {
      "needs_background": "light"
     },
     "output_type": "display_data"
    }
   ],
   "source": [
    "# Visualize/Analyze Loan_Amount feature\n",
    "plt.figure(1)\n",
    "plt.subplot(121)\n",
    "data['Loan_Amount_Log'].plot.box(figsize=(16,5));\n",
    "\n",
    "plt.subplot(122)\n",
    "sns.distplot(data['Loan_Amount_Log'])\n",
    "\n",
    "plt.show()"
   ]
  },
  {
   "cell_type": "markdown",
   "metadata": {},
   "source": [
    "- The distribution is fairly normal for Loan_Amount.\n",
    "- Now we would like to know how well each feature correlate with Loan Status."
   ]
  },
  {
   "cell_type": "markdown",
   "metadata": {},
   "source": [
    "## 4. Descriptive Analysis"
   ]
  },
  {
   "cell_type": "markdown",
   "metadata": {},
   "source": [
    "Lets recall our hypothesis generated at start:\n",
    "\n",
    "1. **Applicant Income** - chances of approval of loan are higher for applicants with high income.\n",
    "2. **Loan Amount** - chances of approval of loan are higher for applicants with less loan amount applied for.\n",
    "3. **Loan Term** - chances of approval of loan are higher for applicants who applied for less time period and less amount.\n",
    "4. **Credit History** - chances of approval of loan are higher for applicants who have good credit history i.e. they repayed their previous debts.\n",
    "\n",
    "Lets try to test the above mentioned hypotheses using bivariate analysis"
   ]
  },
  {
   "cell_type": "markdown",
   "metadata": {},
   "source": [
    "### Independent Categorical Variables vs Target Variable"
   ]
  },
  {
   "cell_type": "markdown",
   "metadata": {},
   "source": [
    "####  Note - Hypothesis of Credit History that \"chances of approval of loan are higher for applicants who have good credit history i.e. they repayed their previous debts\" will be checked here"
   ]
  },
  {
   "cell_type": "code",
   "execution_count": 35,
   "metadata": {},
   "outputs": [
    {
     "data": {
      "image/png": "[encoded data removed]",
      "text/plain": [
       "<Figure size 1440x1080 with 7 Axes>"
      ]
     },
     "metadata": {
      "needs_background": "light"
     },
     "output_type": "display_data"
    }
   ],
   "source": [
    "# Get values of variables\n",
    "Gender=pd.crosstab(data['Gender'],data['Loan_Status'])\n",
    "Married=pd.crosstab(data['Married'],data['Loan_Status'])\n",
    "Dependents=pd.crosstab(data['Dependents'],data['Loan_Status'])\n",
    "Education=pd.crosstab(data['Education'],data['Loan_Status'])\n",
    "Self_Employed=pd.crosstab(data['Self_Employed'],data['Loan_Status'])\n",
    "Credit_History=pd.crosstab(data['Credit_History'],data['Loan_Status'])\n",
    "Property_Area=pd.crosstab(data['Property_Area'],data['Loan_Status'])\n",
    "\n",
    "# Plot each variable\n",
    "fig = plt.figure(figsize=(8, 4))\n",
    "ax1 = fig.add_subplot(331)\n",
    "Gender.div(Gender.sum(1).astype(float), axis=0).plot.bar(figsize=(20,15), stacked=True, ax=ax1)\n",
    "\n",
    "ax2 = fig.add_subplot(332)\n",
    "Married.div(Married.sum(1).astype(float), axis=0).plot(kind=\"bar\", stacked=True, ax=ax2)\n",
    "\n",
    "ax3 = fig.add_subplot(333)\n",
    "Dependents.div(Dependents.sum(1).astype(float), axis=0).plot(kind=\"bar\", stacked=True, ax=ax3)\n",
    "\n",
    "ax4 = fig.add_subplot(334)\n",
    "Education.div(Education.sum(1).astype(float), axis=0).plot(kind=\"bar\", stacked=True, ax=ax4)\n",
    "\n",
    "ax5 = fig.add_subplot(335)\n",
    "Self_Employed.div(Self_Employed.sum(1).astype(float), axis=0).plot(kind=\"bar\", stacked=True, ax=ax5)\n",
    "\n",
    "ax6 = fig.add_subplot(336)\n",
    "Credit_History.div(Credit_History.sum(1).astype(float), axis=0).plot(kind=\"bar\", stacked=True, ax=ax6)\n",
    "\n",
    "ax7 = fig.add_subplot(337)\n",
    "Property_Area.div(Property_Area.sum(1).astype(float), axis=0).plot(kind=\"bar\", stacked=True, ax=ax7)\n",
    "\n",
    "plt.tight_layout()\n",
    "plt.show()"
   ]
  },
  {
   "cell_type": "markdown",
   "metadata": {},
   "source": [
    "Followwing inferences can be made by looking at above plots: (0 - No, 1 - Yes)\n",
    "\n",
    "- The percentage of male and female applicants is almost same for both approved and unapproved loans.\n",
    "- Loans are approved more for married applicants.\n",
    "- Nothing much can be inferred from Dependents distribution of applicants However, applicants with 1 or 3+ dependents have same proportions across both the categories of Loan_Status.\n",
    "- Nothing significant we can be inferred from Self_Employed vs Loan_Status plot.\n",
    "- In semiurban area percentage of loans getting approved is slighly higher as compared to that in rural or urban areas.\n",
    "- **People who paid their debts i.e with credit history as 1 are most likely to get their loans approved. This supports one of our 4th hypothesis that chances of approval of loan are higher for applicants who have good credit history i.e. they repayed their previous debts..**\n",
    "\n",
    "***"
   ]
  },
  {
   "cell_type": "markdown",
   "metadata": {},
   "source": [
    "### Numerical Variables vs Target Variable"
   ]
  },
  {
   "cell_type": "markdown",
   "metadata": {},
   "source": [
    "#### Note - Hypothesis of Applicant Income that \"chances of approval of loan are higher for applicants with high income.\" will be checked here"
   ]
  },
  {
   "cell_type": "markdown",
   "metadata": {},
   "source": [
    "##### Analyze Applicant Income variable. \n",
    "To look at their relationship we would require to divide amounts in some range"
   ]
  },
  {
   "cell_type": "code",
   "execution_count": 36,
   "metadata": {},
   "outputs": [
    {
     "data": {
      "text/plain": [
       "count      614.000000\n",
       "mean      5403.459283\n",
       "std       6109.041673\n",
       "min        150.000000\n",
       "25%       2877.500000\n",
       "50%       3812.500000\n",
       "75%       5795.000000\n",
       "max      81000.000000\n",
       "Name: Applicant_Income, dtype: float64"
      ]
     },
     "execution_count": 36,
     "metadata": {},
     "output_type": "execute_result"
    }
   ],
   "source": [
    "data['Applicant_Income'].describe()"
   ]
  },
  {
   "cell_type": "code",
   "execution_count": 37,
   "metadata": {},
   "outputs": [],
   "source": [
    "# Divide into range for analysis\n",
    "bins = [0,2500,4000,6000,81000]\n",
    "group = ['Low','Average','High', 'Very high']\n",
    "data['Income_range'] = pd.cut(data['Applicant_Income'], bins, labels=group)"
   ]
  },
  {
   "cell_type": "code",
   "execution_count": 38,
   "metadata": {},
   "outputs": [
    {
     "data": {
      "image/png": "[encoded data removed]",
      "text/plain": [
       "<Figure size 432x288 with 1 Axes>"
      ]
     },
     "metadata": {
      "needs_background": "light"
     },
     "output_type": "display_data"
    }
   ],
   "source": [
    "# plot in stacked bar for loan status\n",
    "Income_range = pd.crosstab(data['Income_range'],data['Loan_Status'])\n",
    "Income_range.div(Income_range.sum(1).astype(float), axis=0).plot(kind=\"bar\", stacked=True)\n",
    "plt.xlabel('Applicant_Income')\n",
    "P = plt.ylabel('Percentage of loan approval')"
   ]
  },
  {
   "cell_type": "markdown",
   "metadata": {},
   "source": [
    "- It can be observed from above stacked bar plot that the percentage of loan approval are not affected by Applicant's income which **contradicts our hypothesis in which we assumed that if the applicant income is high the chances of loan approval will also be high.**"
   ]
  },
  {
   "cell_type": "markdown",
   "metadata": {},
   "source": [
    "##### Analyze Co-applicant's Income variable "
   ]
  },
  {
   "cell_type": "code",
   "execution_count": 39,
   "metadata": {},
   "outputs": [
    {
     "data": {
      "text/plain": [
       "count      614.000000\n",
       "mean      1621.245798\n",
       "std       2926.248369\n",
       "min          0.000000\n",
       "25%          0.000000\n",
       "50%       1188.500000\n",
       "75%       2297.250000\n",
       "max      41667.000000\n",
       "Name: Coapplicant_Income, dtype: float64"
      ]
     },
     "execution_count": 39,
     "metadata": {},
     "output_type": "execute_result"
    }
   ],
   "source": [
    "data['Coapplicant_Income'].describe()"
   ]
  },
  {
   "cell_type": "code",
   "execution_count": 40,
   "metadata": {},
   "outputs": [],
   "source": [
    "# Divide into range for analysis\n",
    "bins=[0,1000,3000,42000]\n",
    "group=['Low','Average','High']\n",
    "data['Coapplicant_Income_range']=pd.cut(data['Coapplicant_Income'], bins, labels=group)"
   ]
  },
  {
   "cell_type": "code",
   "execution_count": 41,
   "metadata": {},
   "outputs": [
    {
     "data": {
      "image/png": "[encoded data removed]",
      "text/plain": [
       "<Figure size 432x288 with 1 Axes>"
      ]
     },
     "metadata": {
      "needs_background": "light"
     },
     "output_type": "display_data"
    }
   ],
   "source": [
    "# plot in stacked bar for loan status\n",
    "Coapplicant_Income_range = pd.crosstab(data['Coapplicant_Income_range'],data['Loan_Status'])\n",
    "Coapplicant_Income_range.div(Coapplicant_Income_range.sum(1).astype(float), axis=0).plot(kind=\"bar\", stacked=True)\n",
    "plt.xlabel('Co-applicant Income')\n",
    "P = plt.ylabel('Percentage of loan approval')"
   ]
  },
  {
   "cell_type": "markdown",
   "metadata": {},
   "source": [
    "- It shows that the chances of loan approval are high if coapplicant’s income is low . But this is surprising and does not look right with respect to loan approval. \n",
    "- The possible reason behind this may be that most of the applicants don’t have any coapplicant so the coapplicant income for such applicants is 0 and hence the loan approval is not dependent on it. \n",
    "- So we can combine the applicant’s and coapplicant’s income into Total income to visualize the combined effect of income on loan approval."
   ]
  },
  {
   "cell_type": "markdown",
   "metadata": {},
   "source": [
    "##### Total analyze effect to total income i.e. applicant's income + co-applicant's income lets add them together and plot"
   ]
  },
  {
   "cell_type": "code",
   "execution_count": 42,
   "metadata": {},
   "outputs": [],
   "source": [
    "# Get total income\n",
    "data['Income_Total'] = data['Applicant_Income'] + data['Coapplicant_Income']\n",
    "\n",
    "# Divide into range for analysis\n",
    "bins = [0,2500,4000,6000,81000]\n",
    "group = ['Low','Average','High', 'Very high']\n",
    "data['Income_Total_range'] = pd.cut(data['Income_Total'], bins, labels=group)"
   ]
  },
  {
   "cell_type": "code",
   "execution_count": 43,
   "metadata": {},
   "outputs": [
    {
     "data": {
      "image/png": "[encoded data removed]",
      "text/plain": [
       "<Figure size 432x288 with 1 Axes>"
      ]
     },
     "metadata": {
      "needs_background": "light"
     },
     "output_type": "display_data"
    }
   ],
   "source": [
    "# plot in stacked bar for loan status\n",
    "Income_Total_range = pd.crosstab(data['Income_Total_range'],data['Loan_Status'])\n",
    "Income_Total_range.div(Income_Total_range.sum(1).astype(float), axis=0).plot(kind=\"bar\", stacked=True)\n",
    "plt.xlabel('Income_Total')\n",
    "P = plt.ylabel('Percentage of loan approval')"
   ]
  },
  {
   "cell_type": "markdown",
   "metadata": {},
   "source": [
    "- From above results for total income, we can see that the chances of loans getting approved for applicants having low Total_Income is very less as compared to that of applicants with Average, High and Very High Income.\n",
    "- **This supports our 1st hypotheis assumption that chances of approval of loan are higher for applicants with high income.**\n",
    "***"
   ]
  },
  {
   "cell_type": "markdown",
   "metadata": {},
   "source": [
    "#### Note - Hypothesis of Loan Amount that \"chances of approval of loan are higher for applicants with less loan amount applied for.\" will be checked here"
   ]
  },
  {
   "cell_type": "markdown",
   "metadata": {},
   "source": [
    "##### Analyze Loan amount variable"
   ]
  },
  {
   "cell_type": "code",
   "execution_count": 44,
   "metadata": {},
   "outputs": [],
   "source": [
    "# Divide into range for analysis\n",
    "bins = [0,100,200,700]\n",
    "group = ['Low','Average','High']\n",
    "data['Loan_Amount_range']=pd.cut(data['Loan_Amount'], bins ,labels=group)"
   ]
  },
  {
   "cell_type": "code",
   "execution_count": 45,
   "metadata": {},
   "outputs": [
    {
     "data": {
      "image/png": "[encoded data removed]",
      "text/plain": [
       "<Figure size 432x288 with 1 Axes>"
      ]
     },
     "metadata": {
      "needs_background": "light"
     },
     "output_type": "display_data"
    }
   ],
   "source": [
    "# plot in stacked bar for loan status\n",
    "Loan_Amount_range=pd.crosstab(data['Loan_Amount_range'],data['Loan_Status'])\n",
    "Loan_Amount_range.div(Loan_Amount_range.sum(1).astype(float), axis=0).plot(kind=\"bar\", stacked=True)\n",
    "plt.xlabel('Loan Amount')\n",
    "P = plt.ylabel('Percentage of loan approval')"
   ]
  },
  {
   "cell_type": "markdown",
   "metadata": {},
   "source": [
    "- **The results from above plot supports our 2nd hypotheis in which we considered that when the loan amount is low the chances of loan approval will be high.**\n",
    "- As the percentage of approved loans is higher for Low and Average Loan Amount as compared to that of High Loan Amount.\n",
    "***"
   ]
  },
  {
   "cell_type": "markdown",
   "metadata": {},
   "source": [
    "#### Note - Hypothesis of Loan Term that \"chances of approval of loan are higher for applicants who applied for less time period and less amount.\" will be checked here"
   ]
  },
  {
   "cell_type": "markdown",
   "metadata": {},
   "source": [
    "##### Analyse Loan_Amount_Term variable"
   ]
  },
  {
   "cell_type": "code",
   "execution_count": 46,
   "metadata": {},
   "outputs": [
    {
     "data": {
      "text/plain": [
       "360.0    526\n",
       "180.0     44\n",
       "480.0     15\n",
       "300.0     13\n",
       "84.0       4\n",
       "240.0      4\n",
       "120.0      3\n",
       "36.0       2\n",
       "60.0       2\n",
       "12.0       1\n",
       "Name: Loan_Amount_Term, dtype: int64"
      ]
     },
     "execution_count": 46,
     "metadata": {},
     "output_type": "execute_result"
    }
   ],
   "source": [
    "data['Loan_Amount_Term'].value_counts()"
   ]
  },
  {
   "cell_type": "code",
   "execution_count": 47,
   "metadata": {},
   "outputs": [],
   "source": [
    "# Divide into range for analysis\n",
    "bins = [0,120,240,400]\n",
    "group = ['Short_Term','Medium_Term','Long_Term']\n",
    "data['Loan_Amount_Term_range']=pd.cut(data['Loan_Amount_Term'], bins ,labels=group)"
   ]
  },
  {
   "cell_type": "code",
   "execution_count": 48,
   "metadata": {},
   "outputs": [
    {
     "data": {
      "image/png": "[encoded data removed]",
      "text/plain": [
       "<Figure size 432x288 with 1 Axes>"
      ]
     },
     "metadata": {
      "needs_background": "light"
     },
     "output_type": "display_data"
    }
   ],
   "source": [
    "# Plot in stacked bar for loan status\n",
    "Loan_Amount_Term_range=pd.crosstab(data['Loan_Amount_Term_range'],data['Loan_Status'])\n",
    "Loan_Amount_Term_range.div(Loan_Amount_Term_range.sum(1).astype(float), axis=0).plot(kind=\"bar\", stacked=True)\n",
    "plt.xlabel('Loan Amount Term')\n",
    "P = plt.ylabel('Percentage of Loan Approval')"
   ]
  },
  {
   "cell_type": "markdown",
   "metadata": {},
   "source": [
    "- **The results from above plot supports our 3rd hypotheis in which we considered that the chances of approval of loan are higher for applicants who applied for less time period and less amount.**\n",
    "- As the percentage of approved loans is higher for Short term loan apllications as compared to Mediun and Long term.\n",
    "***"
   ]
  },
  {
   "cell_type": "markdown",
   "metadata": {},
   "source": [
    "#### Correlation Plot"
   ]
  },
  {
   "cell_type": "code",
   "execution_count": 49,
   "metadata": {},
   "outputs": [
    {
     "data": {
      "image/png": "[encoded data removed]",
      "text/plain": [
       "<Figure size 648x432 with 2 Axes>"
      ]
     },
     "metadata": {
      "needs_background": "light"
     },
     "output_type": "display_data"
    }
   ],
   "source": [
    "# Correlation plot for analysis\n",
    "matrix = data.corr()\n",
    "f, ax = plt.subplots(figsize=(9, 6))\n",
    "sns.heatmap(matrix, vmax=.8, square=True, cmap=\"BuPu\");"
   ]
  },
  {
   "cell_type": "markdown",
   "metadata": {},
   "source": [
    "-We see that the most correlated variables are (Applicant_Income - Loan_Amount) and (Credit_History - Loan_Status). Loan_Amount is also correlated with Coapplicant_Income.\n",
    "***"
   ]
  },
  {
   "cell_type": "markdown",
   "metadata": {},
   "source": [
    "## 5. Predictive Analysis"
   ]
  },
  {
   "cell_type": "markdown",
   "metadata": {},
   "source": [
    "I am going to build prediction model for target variable Loan_Status. Before builinding any model we have to take several steps such as dropping unwanted features, changing categorical variables into 0 and 1, getting target variable in separate dataset etc. So lets do that first"
   ]
  },
  {
   "cell_type": "code",
   "execution_count": 50,
   "metadata": {},
   "outputs": [
    {
     "data": {
      "text/html": [
       "<div>\n",
       "<style scoped>\n",
       "    .dataframe tbody tr th:only-of-type {\n",
       "        vertical-align: middle;\n",
       "    }\n",
       "\n",
       "    .dataframe tbody tr th {\n",
       "        vertical-align: top;\n",
       "    }\n",
       "\n",
       "    .dataframe thead th {\n",
       "        text-align: right;\n",
       "    }\n",
       "</style>\n",
       "<table border=\"1\" class=\"dataframe\">\n",
       "  <thead>\n",
       "    <tr style=\"text-align: right;\">\n",
       "      <th></th>\n",
       "      <th>Gender</th>\n",
       "      <th>Married</th>\n",
       "      <th>Dependents</th>\n",
       "      <th>Education</th>\n",
       "      <th>Self_Employed</th>\n",
       "      <th>Applicant_Income</th>\n",
       "      <th>Coapplicant_Income</th>\n",
       "      <th>Loan_Amount</th>\n",
       "      <th>Loan_Amount_Term</th>\n",
       "      <th>Credit_History</th>\n",
       "      <th>Property_Area</th>\n",
       "      <th>Loan_Status</th>\n",
       "      <th>Loan_Amount_Log</th>\n",
       "      <th>Income_range</th>\n",
       "      <th>Coapplicant_Income_range</th>\n",
       "      <th>Income_Total</th>\n",
       "      <th>Income_Total_range</th>\n",
       "      <th>Loan_Amount_range</th>\n",
       "      <th>Loan_Amount_Term_range</th>\n",
       "    </tr>\n",
       "  </thead>\n",
       "  <tbody>\n",
       "    <tr>\n",
       "      <th>0</th>\n",
       "      <td>Male</td>\n",
       "      <td>No</td>\n",
       "      <td>0</td>\n",
       "      <td>Graduate</td>\n",
       "      <td>No</td>\n",
       "      <td>5849</td>\n",
       "      <td>0.0</td>\n",
       "      <td>128.0</td>\n",
       "      <td>360.0</td>\n",
       "      <td>1.0</td>\n",
       "      <td>Urban</td>\n",
       "      <td>1</td>\n",
       "      <td>4.852030</td>\n",
       "      <td>High</td>\n",
       "      <td>NaN</td>\n",
       "      <td>5849.0</td>\n",
       "      <td>High</td>\n",
       "      <td>Average</td>\n",
       "      <td>Long_Term</td>\n",
       "    </tr>\n",
       "    <tr>\n",
       "      <th>1</th>\n",
       "      <td>Male</td>\n",
       "      <td>Yes</td>\n",
       "      <td>1</td>\n",
       "      <td>Graduate</td>\n",
       "      <td>No</td>\n",
       "      <td>4583</td>\n",
       "      <td>1508.0</td>\n",
       "      <td>128.0</td>\n",
       "      <td>360.0</td>\n",
       "      <td>1.0</td>\n",
       "      <td>Rural</td>\n",
       "      <td>0</td>\n",
       "      <td>4.852030</td>\n",
       "      <td>High</td>\n",
       "      <td>Average</td>\n",
       "      <td>6091.0</td>\n",
       "      <td>Very high</td>\n",
       "      <td>Average</td>\n",
       "      <td>Long_Term</td>\n",
       "    </tr>\n",
       "    <tr>\n",
       "      <th>2</th>\n",
       "      <td>Male</td>\n",
       "      <td>Yes</td>\n",
       "      <td>0</td>\n",
       "      <td>Graduate</td>\n",
       "      <td>Yes</td>\n",
       "      <td>3000</td>\n",
       "      <td>0.0</td>\n",
       "      <td>66.0</td>\n",
       "      <td>360.0</td>\n",
       "      <td>1.0</td>\n",
       "      <td>Urban</td>\n",
       "      <td>1</td>\n",
       "      <td>4.189655</td>\n",
       "      <td>Average</td>\n",
       "      <td>NaN</td>\n",
       "      <td>3000.0</td>\n",
       "      <td>Average</td>\n",
       "      <td>Low</td>\n",
       "      <td>Long_Term</td>\n",
       "    </tr>\n",
       "    <tr>\n",
       "      <th>3</th>\n",
       "      <td>Male</td>\n",
       "      <td>Yes</td>\n",
       "      <td>0</td>\n",
       "      <td>Not Graduate</td>\n",
       "      <td>No</td>\n",
       "      <td>2583</td>\n",
       "      <td>2358.0</td>\n",
       "      <td>120.0</td>\n",
       "      <td>360.0</td>\n",
       "      <td>1.0</td>\n",
       "      <td>Urban</td>\n",
       "      <td>1</td>\n",
       "      <td>4.787492</td>\n",
       "      <td>Average</td>\n",
       "      <td>Average</td>\n",
       "      <td>4941.0</td>\n",
       "      <td>High</td>\n",
       "      <td>Average</td>\n",
       "      <td>Long_Term</td>\n",
       "    </tr>\n",
       "    <tr>\n",
       "      <th>4</th>\n",
       "      <td>Male</td>\n",
       "      <td>No</td>\n",
       "      <td>0</td>\n",
       "      <td>Graduate</td>\n",
       "      <td>No</td>\n",
       "      <td>6000</td>\n",
       "      <td>0.0</td>\n",
       "      <td>141.0</td>\n",
       "      <td>360.0</td>\n",
       "      <td>1.0</td>\n",
       "      <td>Urban</td>\n",
       "      <td>1</td>\n",
       "      <td>4.948760</td>\n",
       "      <td>High</td>\n",
       "      <td>NaN</td>\n",
       "      <td>6000.0</td>\n",
       "      <td>High</td>\n",
       "      <td>Average</td>\n",
       "      <td>Long_Term</td>\n",
       "    </tr>\n",
       "  </tbody>\n",
       "</table>\n",
       "</div>"
      ],
      "text/plain": [
       "  Gender Married Dependents     Education Self_Employed  Applicant_Income  \\\n",
       "0   Male      No          0      Graduate            No              5849   \n",
       "1   Male     Yes          1      Graduate            No              4583   \n",
       "2   Male     Yes          0      Graduate           Yes              3000   \n",
       "3   Male     Yes          0  Not Graduate            No              2583   \n",
       "4   Male      No          0      Graduate            No              6000   \n",
       "\n",
       "   Coapplicant_Income  Loan_Amount  Loan_Amount_Term  Credit_History  \\\n",
       "0                 0.0        128.0             360.0             1.0   \n",
       "1              1508.0        128.0             360.0             1.0   \n",
       "2                 0.0         66.0             360.0             1.0   \n",
       "3              2358.0        120.0             360.0             1.0   \n",
       "4                 0.0        141.0             360.0             1.0   \n",
       "\n",
       "  Property_Area  Loan_Status  Loan_Amount_Log Income_range  \\\n",
       "0         Urban            1         4.852030         High   \n",
       "1         Rural            0         4.852030         High   \n",
       "2         Urban            1         4.189655      Average   \n",
       "3         Urban            1         4.787492      Average   \n",
       "4         Urban            1         4.948760         High   \n",
       "\n",
       "  Coapplicant_Income_range  Income_Total Income_Total_range Loan_Amount_range  \\\n",
       "0                      NaN        5849.0               High           Average   \n",
       "1                  Average        6091.0          Very high           Average   \n",
       "2                      NaN        3000.0            Average               Low   \n",
       "3                  Average        4941.0               High           Average   \n",
       "4                      NaN        6000.0               High           Average   \n",
       "\n",
       "  Loan_Amount_Term_range  \n",
       "0              Long_Term  \n",
       "1              Long_Term  \n",
       "2              Long_Term  \n",
       "3              Long_Term  \n",
       "4              Long_Term  "
      ]
     },
     "execution_count": 50,
     "metadata": {},
     "output_type": "execute_result"
    }
   ],
   "source": [
    "data.head()"
   ]
  },
  {
   "cell_type": "code",
   "execution_count": 51,
   "metadata": {},
   "outputs": [],
   "source": [
    "# Drop unwanted columns\n",
    "data = data.drop(['Income_range', 'Coapplicant_Income_range', 'Income_Total', 'Income_Total_range', 'Loan_Amount_range','Loan_Amount_Term_range'], axis=1)"
   ]
  },
  {
   "cell_type": "code",
   "execution_count": 52,
   "metadata": {},
   "outputs": [],
   "source": [
    "# Get target variable in separate dataset  \n",
    "X = data.drop('Loan_Status',axis=1)\n",
    "y = data.Loan_Status"
   ]
  },
  {
   "cell_type": "code",
   "execution_count": 53,
   "metadata": {},
   "outputs": [],
   "source": [
    "# Change categorical variables into 0 and 1\n",
    "X=pd.get_dummies(X)\n",
    "data=pd.get_dummies(data)\n",
    "test=pd.get_dummies(test)"
   ]
  },
  {
   "cell_type": "code",
   "execution_count": 54,
   "metadata": {},
   "outputs": [],
   "source": [
    "# Split dataset - stratified\n",
    "from sklearn.model_selection import train_test_split\n",
    "X_train, X_test, y_train, y_test = train_test_split(X, y, test_size=0.35)"
   ]
  },
  {
   "cell_type": "markdown",
   "metadata": {},
   "source": [
    "### Logistic Regression model"
   ]
  },
  {
   "cell_type": "markdown",
   "metadata": {},
   "source": [
    "- As our goal is to predict if loan will be approved for a particulat loan ID or not, I am using Logistic Regression is a classification algorithm which is used to predict a binary outcome (1 / 0, Yes / No, True / False) given a set of independent variables.\n",
    "- Logistic regression is used to describe data and to explain the relationship between one dependent binary variable and one or more nominal, ordinal, interval or ratio-level independent variables."
   ]
  },
  {
   "cell_type": "code",
   "execution_count": 55,
   "metadata": {},
   "outputs": [
    {
     "name": "stdout",
     "output_type": "stream",
     "text": [
      "Accuracy score for Logistic Regression is 0.781\n"
     ]
    }
   ],
   "source": [
    "# Logistic Reg without stratified k fold\n",
    "from sklearn.linear_model import LogisticRegression\n",
    "from sklearn.metrics import accuracy_score\n",
    "\n",
    "clf = LogisticRegression()\n",
    "clf.fit(X_train, y_train)\n",
    "y_pred = clf.predict(X_test)\n",
    "acc = accuracy_score(y_test, y_pred)  \n",
    "print(f'Accuracy score for Logistic Regression is {acc:.3f}')  "
   ]
  },
  {
   "cell_type": "markdown",
   "metadata": {},
   "source": [
    "So our predictions are almost 82% accurate. This means that, we have identified 82% of the loan status correctly."
   ]
  },
  {
   "cell_type": "markdown",
   "metadata": {},
   "source": [
    "### Using Cross Validation\n",
    "\n",
    "- Cross Validation is used to examine the predictive performance of the models and and to judge how they perform when when a new data also known as test dataset is provided outside of the sample on which model was fitted.\n",
    "- In **k-fold cross-validation**, the original sample is randomly partitioned into k equal sized subsamples. Of the k subsamples, a single subsample is retained as the validation data for testing the model, and the remaining k − 1 subsamples are used as training data. The cross-validation process is then repeated k times, with each of the k subsamples used exactly once as the validation data."
   ]
  },
  {
   "cell_type": "code",
   "execution_count": 56,
   "metadata": {},
   "outputs": [
    {
     "name": "stdout",
     "output_type": "stream",
     "text": [
      "\n",
      "1 of Kfold 5\n",
      "Accuracy_Score 0.798\n",
      "\n",
      "2 of Kfold 5\n",
      "Accuracy_Score 0.831\n",
      "\n",
      "3 of Kfold 5\n",
      "Accuracy_Score 0.811\n",
      "\n",
      "4 of Kfold 5\n",
      "Accuracy_Score 0.795\n",
      "\n",
      "5 of Kfold 5\n",
      "Accuracy_Score 0.828\n",
      "\n",
      " Mean accuracy score is 0.813\n"
     ]
    },
    {
     "data": {
      "image/png": "[encoded data removed]",
      "text/plain": [
       "<Figure size 432x288 with 1 Axes>"
      ]
     },
     "metadata": {
      "needs_background": "light"
     },
     "output_type": "display_data"
    }
   ],
   "source": [
    "# Logistics reg. with stratified k-fold cross validation\n",
    "from sklearn.model_selection import StratifiedKFold\n",
    "\n",
    "i=1\n",
    "acs = []\n",
    "skf = StratifiedKFold(n_splits=5,random_state=1,shuffle=True)\n",
    "\n",
    "for train_index,test_index in skf.split(X, y):\n",
    "    print('\\n{} of Kfold {}'.format(i,skf.n_splits))\n",
    "    X_train, X_test = X.loc[train_index], X.loc[test_index]\n",
    "    y_train, y_test = y[train_index], y[test_index]\n",
    "    \n",
    "    clf = LogisticRegression(random_state=1)\n",
    "    clf.fit(X_train, y_train)\n",
    "    y_pred = clf.predict(X_test)\n",
    "    acc = accuracy_score(y_pred, y_test)\n",
    "    print(f'Accuracy_Score {acc:.3f}')\n",
    "    acs.append(acc)\n",
    "    i+=1\n",
    "\n",
    "# Plot result for each fold\n",
    "plt.plot(acs, color='red', linestyle='dashed', marker='o',markerfacecolor='blue', markersize=10)\n",
    "plt.title('Accuracy for K Folds''\\n')  \n",
    "plt.xlabel('K Folds')  \n",
    "plt.ylabel('Accuracy Score')\n",
    "\n",
    "# Print mean \n",
    "print(f'\\n Mean accuracy score is {np.mean(acs):.3f}')"
   ]
  },
  {
   "cell_type": "markdown",
   "metadata": {},
   "source": [
    "- Above result show accuracy score for each k-fold along with the mean accuracy of about 81%. This means that, we have identified 81% of the loan status correctly.\n",
    "- Now we can use this model to predict values of test dataset which we kept separately at start."
   ]
  },
  {
   "cell_type": "code",
   "execution_count": 57,
   "metadata": {},
   "outputs": [],
   "source": [
    "# Predictions for test dataset\n",
    "pred_test = clf.predict(test)"
   ]
  },
  {
   "cell_type": "code",
   "execution_count": 58,
   "metadata": {},
   "outputs": [],
   "source": [
    "# Reading file to write predictions resulted above\n",
    "result = pd.read_csv('Predictions.csv')\n",
    "result['Loan_Status'] = pred_test\n",
    "result['Loan_ID'] = test_original['Loan_ID']"
   ]
  },
  {
   "cell_type": "code",
   "execution_count": 59,
   "metadata": {},
   "outputs": [],
   "source": [
    "# Replace 0 with N and 1 with Y\n",
    "result['Loan_Status'].replace(0, 'N',inplace=True)\n",
    "result['Loan_Status'].replace(1, 'Y',inplace=True)"
   ]
  },
  {
   "cell_type": "code",
   "execution_count": 60,
   "metadata": {},
   "outputs": [],
   "source": [
    "# Generate new logistics.csv file\n",
    "pd.DataFrame(result, columns=['Loan_ID','Loan_Status']).to_csv('logistic_predictions.csv')"
   ]
  },
  {
   "cell_type": "markdown",
   "metadata": {},
   "source": [
    "- In the logistic_predictions.csv file we have predicted Loan_Status as 'Y' or 'N' for the Loan_IDs in original dataset. The choice of logistic regression classifier was good for this model as we achieved almost 81% of accuracy and logistics regression is best choice when it comes to predict a binary outcomes."
   ]
  },
  {
   "cell_type": "markdown",
   "metadata": {},
   "source": [
    "## Conclusion"
   ]
  },
  {
   "cell_type": "markdown",
   "metadata": {},
   "source": [
    "- In conclusion, in this project to achieve the goal (given in problem statement) I performed:\n",
    " 1. Data extraction and exploration\n",
    " 2. Data cleanup and preparation\n",
    " 3. Data Visualization\n",
    " 4. Descriptive analysis along with hypothesis generation\n",
    " 5. Predictive analysis\n",
    "\n",
    "\n",
    "- I was able to find out which factors affect the loan approval the most and was able to automate the process to identify the customers' segments, those who are eligible for loan payment so that the bank can specifically focus these eligible customers using prediction model.\n",
    "\n",
    "\n",
    "- The results I got from my descriptive analysis supported my hypothesis I generated about the data. It shows that Loan Amount, Loan Term and Credit History play major role when deciding to approve loan of a customer. \n",
    "\n",
    "\n",
    "- However, Applicant Income trends were surprising along with co-applicant income trends, as it displayed that low income has high chance of getting loan approved. While in reality this should not be a case normally. But this assumption was satisfied when applican't income and co-applicant's income are combined together.\n",
    "\n",
    "\n",
    "- And the result from my predictive analysis present in logistic_predictions.csv file provide loan ids for which loan can be approved based on feature values provided for them.\n",
    "***"
   ]
  },
  {
   "cell_type": "markdown",
   "metadata": {},
   "source": [
    "**References:**\n",
    "- Analytics Vidya. (n.d.). Practice Problem: Loan Prediction III | Knowledge and Learning. Retrieved December 13, 2018, from https://datahack.analyticsvidhya.com/contest/practice-problem-loan-prediction-iii/\n",
    "- Cross-validation (statistics). (2018, December 06). Retrieved December 13, 2018, from https://en.wikipedia.org/wiki/Cross-validation_(statistics)\n",
    "- How to Handle Missing Data with Python. (2018, March 10). Retrieved December 13, 2018, from https://machinelearningmastery.com/handle-missing-data-python/\n",
    "- Albon, C. (2017, December 20). Missing Data In pandas Dataframes. Retrieved December 13, 2018, from https://chrisalbon.com/python/data_wrangling/pandas_missing_data/\n",
    "- What is Logistic Regression? (n.d.). Retrieved December 13, 2018, from https://www.statisticssolutions.com/what-is-logistic-regression/\n",
    "    "
   ]
  }
 ],
 "metadata": {
  "kernelspec": {
   "display_name": "Python 3",
   "language": "python",
   "name": "python3"
  },
  "language_info": {
   "codemirror_mode": {
    "name": "ipython",
    "version": 3
   },
   "file_extension": ".py",
   "mimetype": "text/x-python",
   "name": "python",
   "nbconvert_exporter": "python",
   "pygments_lexer": "ipython3",
   "version": "3.6.6"
  }
 },
 "nbformat": 4,
 "nbformat_minor": 2
}
